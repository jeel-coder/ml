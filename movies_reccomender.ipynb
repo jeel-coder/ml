{
 "cells": [
  {
   "cell_type": "code",
   "execution_count": 1,
   "id": "5301a6d2",
   "metadata": {
    "_cell_guid": "b1076dfc-b9ad-4769-8c92-a6c4dae69d19",
    "_uuid": "8f2839f25d086af736a60e9eeb907d3b93b6e0e5",
    "execution": {
     "iopub.execute_input": "2025-04-03T10:23:35.193294Z",
     "iopub.status.busy": "2025-04-03T10:23:35.192918Z",
     "iopub.status.idle": "2025-04-03T10:23:36.049728Z",
     "shell.execute_reply": "2025-04-03T10:23:36.048329Z"
    },
    "papermill": {
     "duration": 0.887278,
     "end_time": "2025-04-03T10:23:36.051513",
     "exception": false,
     "start_time": "2025-04-03T10:23:35.164235",
     "status": "completed"
    },
    "tags": []
   },
   "outputs": [
    {
     "name": "stdout",
     "output_type": "stream",
     "text": [
      "/kaggle/input/tmdb-movie-metadata/tmdb_5000_movies.csv\n",
      "/kaggle/input/tmdb-movie-metadata/tmdb_5000_credits.csv\n"
     ]
    }
   ],
   "source": [
    "# This Python 3 environment comes with many helpful analytics libraries installed\n",
    "# It is defined by the kaggle/python Docker image: https://github.com/kaggle/docker-python\n",
    "# For example, here's several helpful packages to load\n",
    "\n",
    "import numpy as np # linear algebra\n",
    "import pandas as pd # data processing, CSV file I/O (e.g. pd.read_csv)\n",
    "\n",
    "# Input data files are available in the read-only \"../input/\" directory\n",
    "# For example, running this (by clicking run or pressing Shift+Enter) will list all files under the input directory\n",
    "\n",
    "import os\n",
    "for dirname, _, filenames in os.walk('/kaggle/input'):\n",
    "    for filename in filenames:\n",
    "        print(os.path.join(dirname, filename))\n",
    "\n",
    "# You can write up to 20GB to the current directory (/kaggle/working/) that gets preserved as output when you create a version using \"Save & Run All\" \n",
    "# You can also write temporary files to /kaggle/temp/, but they won't be saved outside of the current session"
   ]
  },
  {
   "cell_type": "code",
   "execution_count": 2,
   "id": "12be186a",
   "metadata": {
    "execution": {
     "iopub.execute_input": "2025-04-03T10:23:36.104466Z",
     "iopub.status.busy": "2025-04-03T10:23:36.103927Z",
     "iopub.status.idle": "2025-04-03T10:23:36.829753Z",
     "shell.execute_reply": "2025-04-03T10:23:36.828552Z"
    },
    "papermill": {
     "duration": 0.753907,
     "end_time": "2025-04-03T10:23:36.831630",
     "exception": false,
     "start_time": "2025-04-03T10:23:36.077723",
     "status": "completed"
    },
    "tags": []
   },
   "outputs": [
    {
     "name": "stdout",
     "output_type": "stream",
     "text": [
      "Path to dataset files: /kaggle/input/tmdb-movie-metadata\n"
     ]
    }
   ],
   "source": [
    "import kagglehub\n",
    "\n",
    "# Download latest version\n",
    "path = kagglehub.dataset_download(\"tmdb/tmdb-movie-metadata\")\n",
    "\n",
    "print(\"Path to dataset files:\", path)"
   ]
  },
  {
   "cell_type": "code",
   "execution_count": 3,
   "id": "ad2d4228",
   "metadata": {
    "execution": {
     "iopub.execute_input": "2025-04-03T10:23:36.883971Z",
     "iopub.status.busy": "2025-04-03T10:23:36.883624Z",
     "iopub.status.idle": "2025-04-03T10:23:36.887749Z",
     "shell.execute_reply": "2025-04-03T10:23:36.886806Z"
    },
    "papermill": {
     "duration": 0.032006,
     "end_time": "2025-04-03T10:23:36.889441",
     "exception": false,
     "start_time": "2025-04-03T10:23:36.857435",
     "status": "completed"
    },
    "tags": []
   },
   "outputs": [],
   "source": [
    "import numpy as np\n",
    "import pandas as pd"
   ]
  },
  {
   "cell_type": "code",
   "execution_count": 4,
   "id": "9e37bb6d",
   "metadata": {
    "execution": {
     "iopub.execute_input": "2025-04-03T10:23:36.941243Z",
     "iopub.status.busy": "2025-04-03T10:23:36.940913Z",
     "iopub.status.idle": "2025-04-03T10:23:37.771795Z",
     "shell.execute_reply": "2025-04-03T10:23:37.770601Z"
    },
    "papermill": {
     "duration": 0.859002,
     "end_time": "2025-04-03T10:23:37.773767",
     "exception": false,
     "start_time": "2025-04-03T10:23:36.914765",
     "status": "completed"
    },
    "tags": []
   },
   "outputs": [],
   "source": [
    "credits=pd.read_csv('/kaggle/input/tmdb-movie-metadata/tmdb_5000_credits.csv')"
   ]
  },
  {
   "cell_type": "code",
   "execution_count": 5,
   "id": "19c54528",
   "metadata": {
    "execution": {
     "iopub.execute_input": "2025-04-03T10:23:37.825669Z",
     "iopub.status.busy": "2025-04-03T10:23:37.825253Z",
     "iopub.status.idle": "2025-04-03T10:23:37.988995Z",
     "shell.execute_reply": "2025-04-03T10:23:37.987794Z"
    },
    "papermill": {
     "duration": 0.191496,
     "end_time": "2025-04-03T10:23:37.990858",
     "exception": false,
     "start_time": "2025-04-03T10:23:37.799362",
     "status": "completed"
    },
    "tags": []
   },
   "outputs": [],
   "source": [
    "movies=pd.read_csv('/kaggle/input/tmdb-movie-metadata/tmdb_5000_movies.csv')"
   ]
  },
  {
   "cell_type": "code",
   "execution_count": 6,
   "id": "37fb4a32",
   "metadata": {
    "execution": {
     "iopub.execute_input": "2025-04-03T10:23:38.042775Z",
     "iopub.status.busy": "2025-04-03T10:23:38.042373Z",
     "iopub.status.idle": "2025-04-03T10:23:38.073952Z",
     "shell.execute_reply": "2025-04-03T10:23:38.072870Z"
    },
    "papermill": {
     "duration": 0.05973,
     "end_time": "2025-04-03T10:23:38.075666",
     "exception": false,
     "start_time": "2025-04-03T10:23:38.015936",
     "status": "completed"
    },
    "tags": []
   },
   "outputs": [
    {
     "data": {
      "text/html": [
       "<div>\n",
       "<style scoped>\n",
       "    .dataframe tbody tr th:only-of-type {\n",
       "        vertical-align: middle;\n",
       "    }\n",
       "\n",
       "    .dataframe tbody tr th {\n",
       "        vertical-align: top;\n",
       "    }\n",
       "\n",
       "    .dataframe thead th {\n",
       "        text-align: right;\n",
       "    }\n",
       "</style>\n",
       "<table border=\"1\" class=\"dataframe\">\n",
       "  <thead>\n",
       "    <tr style=\"text-align: right;\">\n",
       "      <th></th>\n",
       "      <th>budget</th>\n",
       "      <th>genres</th>\n",
       "      <th>homepage</th>\n",
       "      <th>id</th>\n",
       "      <th>keywords</th>\n",
       "      <th>original_language</th>\n",
       "      <th>original_title</th>\n",
       "      <th>overview</th>\n",
       "      <th>popularity</th>\n",
       "      <th>production_companies</th>\n",
       "      <th>production_countries</th>\n",
       "      <th>release_date</th>\n",
       "      <th>revenue</th>\n",
       "      <th>runtime</th>\n",
       "      <th>spoken_languages</th>\n",
       "      <th>status</th>\n",
       "      <th>tagline</th>\n",
       "      <th>title</th>\n",
       "      <th>vote_average</th>\n",
       "      <th>vote_count</th>\n",
       "    </tr>\n",
       "  </thead>\n",
       "  <tbody>\n",
       "    <tr>\n",
       "      <th>0</th>\n",
       "      <td>237000000</td>\n",
       "      <td>[{\"id\": 28, \"name\": \"Action\"}, {\"id\": 12, \"nam...</td>\n",
       "      <td>http://www.avatarmovie.com/</td>\n",
       "      <td>19995</td>\n",
       "      <td>[{\"id\": 1463, \"name\": \"culture clash\"}, {\"id\":...</td>\n",
       "      <td>en</td>\n",
       "      <td>Avatar</td>\n",
       "      <td>In the 22nd century, a paraplegic Marine is di...</td>\n",
       "      <td>150.437577</td>\n",
       "      <td>[{\"name\": \"Ingenious Film Partners\", \"id\": 289...</td>\n",
       "      <td>[{\"iso_3166_1\": \"US\", \"name\": \"United States o...</td>\n",
       "      <td>2009-12-10</td>\n",
       "      <td>2787965087</td>\n",
       "      <td>162.0</td>\n",
       "      <td>[{\"iso_639_1\": \"en\", \"name\": \"English\"}, {\"iso...</td>\n",
       "      <td>Released</td>\n",
       "      <td>Enter the World of Pandora.</td>\n",
       "      <td>Avatar</td>\n",
       "      <td>7.2</td>\n",
       "      <td>11800</td>\n",
       "    </tr>\n",
       "  </tbody>\n",
       "</table>\n",
       "</div>"
      ],
      "text/plain": [
       "      budget                                             genres  \\\n",
       "0  237000000  [{\"id\": 28, \"name\": \"Action\"}, {\"id\": 12, \"nam...   \n",
       "\n",
       "                      homepage     id  \\\n",
       "0  http://www.avatarmovie.com/  19995   \n",
       "\n",
       "                                            keywords original_language  \\\n",
       "0  [{\"id\": 1463, \"name\": \"culture clash\"}, {\"id\":...                en   \n",
       "\n",
       "  original_title                                           overview  \\\n",
       "0         Avatar  In the 22nd century, a paraplegic Marine is di...   \n",
       "\n",
       "   popularity                               production_companies  \\\n",
       "0  150.437577  [{\"name\": \"Ingenious Film Partners\", \"id\": 289...   \n",
       "\n",
       "                                production_countries release_date     revenue  \\\n",
       "0  [{\"iso_3166_1\": \"US\", \"name\": \"United States o...   2009-12-10  2787965087   \n",
       "\n",
       "   runtime                                   spoken_languages    status  \\\n",
       "0    162.0  [{\"iso_639_1\": \"en\", \"name\": \"English\"}, {\"iso...  Released   \n",
       "\n",
       "                       tagline   title  vote_average  vote_count  \n",
       "0  Enter the World of Pandora.  Avatar           7.2       11800  "
      ]
     },
     "execution_count": 6,
     "metadata": {},
     "output_type": "execute_result"
    }
   ],
   "source": [
    "movies.head(1)"
   ]
  },
  {
   "cell_type": "code",
   "execution_count": 7,
   "id": "9ce6cdfb",
   "metadata": {
    "execution": {
     "iopub.execute_input": "2025-04-03T10:23:38.127553Z",
     "iopub.status.busy": "2025-04-03T10:23:38.127178Z",
     "iopub.status.idle": "2025-04-03T10:23:38.136789Z",
     "shell.execute_reply": "2025-04-03T10:23:38.135611Z"
    },
    "papermill": {
     "duration": 0.037123,
     "end_time": "2025-04-03T10:23:38.138415",
     "exception": false,
     "start_time": "2025-04-03T10:23:38.101292",
     "status": "completed"
    },
    "tags": []
   },
   "outputs": [
    {
     "data": {
      "text/html": [
       "<div>\n",
       "<style scoped>\n",
       "    .dataframe tbody tr th:only-of-type {\n",
       "        vertical-align: middle;\n",
       "    }\n",
       "\n",
       "    .dataframe tbody tr th {\n",
       "        vertical-align: top;\n",
       "    }\n",
       "\n",
       "    .dataframe thead th {\n",
       "        text-align: right;\n",
       "    }\n",
       "</style>\n",
       "<table border=\"1\" class=\"dataframe\">\n",
       "  <thead>\n",
       "    <tr style=\"text-align: right;\">\n",
       "      <th></th>\n",
       "      <th>movie_id</th>\n",
       "      <th>title</th>\n",
       "      <th>cast</th>\n",
       "      <th>crew</th>\n",
       "    </tr>\n",
       "  </thead>\n",
       "  <tbody>\n",
       "    <tr>\n",
       "      <th>0</th>\n",
       "      <td>19995</td>\n",
       "      <td>Avatar</td>\n",
       "      <td>[{\"cast_id\": 242, \"character\": \"Jake Sully\", \"...</td>\n",
       "      <td>[{\"credit_id\": \"52fe48009251416c750aca23\", \"de...</td>\n",
       "    </tr>\n",
       "  </tbody>\n",
       "</table>\n",
       "</div>"
      ],
      "text/plain": [
       "   movie_id   title                                               cast  \\\n",
       "0     19995  Avatar  [{\"cast_id\": 242, \"character\": \"Jake Sully\", \"...   \n",
       "\n",
       "                                                crew  \n",
       "0  [{\"credit_id\": \"52fe48009251416c750aca23\", \"de...  "
      ]
     },
     "execution_count": 7,
     "metadata": {},
     "output_type": "execute_result"
    }
   ],
   "source": [
    "credits.head(1)"
   ]
  },
  {
   "cell_type": "code",
   "execution_count": 8,
   "id": "b573bcde",
   "metadata": {
    "execution": {
     "iopub.execute_input": "2025-04-03T10:23:38.190717Z",
     "iopub.status.busy": "2025-04-03T10:23:38.190379Z",
     "iopub.status.idle": "2025-04-03T10:23:38.216210Z",
     "shell.execute_reply": "2025-04-03T10:23:38.215259Z"
    },
    "papermill": {
     "duration": 0.054158,
     "end_time": "2025-04-03T10:23:38.218555",
     "exception": false,
     "start_time": "2025-04-03T10:23:38.164397",
     "status": "completed"
    },
    "tags": []
   },
   "outputs": [],
   "source": [
    "df_movies=movies.merge(credits,on='title')"
   ]
  },
  {
   "cell_type": "code",
   "execution_count": 9,
   "id": "61d1a87d",
   "metadata": {
    "execution": {
     "iopub.execute_input": "2025-04-03T10:23:38.271034Z",
     "iopub.status.busy": "2025-04-03T10:23:38.270695Z",
     "iopub.status.idle": "2025-04-03T10:23:38.276384Z",
     "shell.execute_reply": "2025-04-03T10:23:38.275459Z"
    },
    "papermill": {
     "duration": 0.033491,
     "end_time": "2025-04-03T10:23:38.278022",
     "exception": false,
     "start_time": "2025-04-03T10:23:38.244531",
     "status": "completed"
    },
    "tags": []
   },
   "outputs": [
    {
     "data": {
      "text/plain": [
       "(4809, 23)"
      ]
     },
     "execution_count": 9,
     "metadata": {},
     "output_type": "execute_result"
    }
   ],
   "source": [
    "df_movies.shape"
   ]
  },
  {
   "cell_type": "code",
   "execution_count": 10,
   "id": "7f2662b5",
   "metadata": {
    "execution": {
     "iopub.execute_input": "2025-04-03T10:23:38.330838Z",
     "iopub.status.busy": "2025-04-03T10:23:38.330472Z",
     "iopub.status.idle": "2025-04-03T10:23:38.336109Z",
     "shell.execute_reply": "2025-04-03T10:23:38.335171Z"
    },
    "papermill": {
     "duration": 0.034004,
     "end_time": "2025-04-03T10:23:38.337821",
     "exception": false,
     "start_time": "2025-04-03T10:23:38.303817",
     "status": "completed"
    },
    "tags": []
   },
   "outputs": [
    {
     "data": {
      "text/plain": [
       "(4803, 20)"
      ]
     },
     "execution_count": 10,
     "metadata": {},
     "output_type": "execute_result"
    }
   ],
   "source": [
    "movies.shape"
   ]
  },
  {
   "cell_type": "code",
   "execution_count": 11,
   "id": "cea62f40",
   "metadata": {
    "execution": {
     "iopub.execute_input": "2025-04-03T10:23:38.390302Z",
     "iopub.status.busy": "2025-04-03T10:23:38.389982Z",
     "iopub.status.idle": "2025-04-03T10:23:38.395320Z",
     "shell.execute_reply": "2025-04-03T10:23:38.394447Z"
    },
    "papermill": {
     "duration": 0.033533,
     "end_time": "2025-04-03T10:23:38.396996",
     "exception": false,
     "start_time": "2025-04-03T10:23:38.363463",
     "status": "completed"
    },
    "tags": []
   },
   "outputs": [
    {
     "data": {
      "text/plain": [
       "(4803, 4)"
      ]
     },
     "execution_count": 11,
     "metadata": {},
     "output_type": "execute_result"
    }
   ],
   "source": [
    "credits.shape"
   ]
  },
  {
   "cell_type": "markdown",
   "id": "78d5621d",
   "metadata": {
    "papermill": {
     "duration": 0.025695,
     "end_time": "2025-04-03T10:23:38.448313",
     "exception": false,
     "start_time": "2025-04-03T10:23:38.422618",
     "status": "completed"
    },
    "tags": []
   },
   "source": [
    "the total columns should be 24 but since we are joining on the basis of title one column is less"
   ]
  },
  {
   "cell_type": "code",
   "execution_count": 12,
   "id": "7864d769",
   "metadata": {
    "execution": {
     "iopub.execute_input": "2025-04-03T10:23:38.501204Z",
     "iopub.status.busy": "2025-04-03T10:23:38.500858Z",
     "iopub.status.idle": "2025-04-03T10:23:38.520554Z",
     "shell.execute_reply": "2025-04-03T10:23:38.519547Z"
    },
    "papermill": {
     "duration": 0.048255,
     "end_time": "2025-04-03T10:23:38.522270",
     "exception": false,
     "start_time": "2025-04-03T10:23:38.474015",
     "status": "completed"
    },
    "tags": []
   },
   "outputs": [
    {
     "data": {
      "text/html": [
       "<div>\n",
       "<style scoped>\n",
       "    .dataframe tbody tr th:only-of-type {\n",
       "        vertical-align: middle;\n",
       "    }\n",
       "\n",
       "    .dataframe tbody tr th {\n",
       "        vertical-align: top;\n",
       "    }\n",
       "\n",
       "    .dataframe thead th {\n",
       "        text-align: right;\n",
       "    }\n",
       "</style>\n",
       "<table border=\"1\" class=\"dataframe\">\n",
       "  <thead>\n",
       "    <tr style=\"text-align: right;\">\n",
       "      <th></th>\n",
       "      <th>budget</th>\n",
       "      <th>genres</th>\n",
       "      <th>homepage</th>\n",
       "      <th>id</th>\n",
       "      <th>keywords</th>\n",
       "      <th>original_language</th>\n",
       "      <th>original_title</th>\n",
       "      <th>overview</th>\n",
       "      <th>popularity</th>\n",
       "      <th>production_companies</th>\n",
       "      <th>...</th>\n",
       "      <th>runtime</th>\n",
       "      <th>spoken_languages</th>\n",
       "      <th>status</th>\n",
       "      <th>tagline</th>\n",
       "      <th>title</th>\n",
       "      <th>vote_average</th>\n",
       "      <th>vote_count</th>\n",
       "      <th>movie_id</th>\n",
       "      <th>cast</th>\n",
       "      <th>crew</th>\n",
       "    </tr>\n",
       "  </thead>\n",
       "  <tbody>\n",
       "    <tr>\n",
       "      <th>0</th>\n",
       "      <td>237000000</td>\n",
       "      <td>[{\"id\": 28, \"name\": \"Action\"}, {\"id\": 12, \"nam...</td>\n",
       "      <td>http://www.avatarmovie.com/</td>\n",
       "      <td>19995</td>\n",
       "      <td>[{\"id\": 1463, \"name\": \"culture clash\"}, {\"id\":...</td>\n",
       "      <td>en</td>\n",
       "      <td>Avatar</td>\n",
       "      <td>In the 22nd century, a paraplegic Marine is di...</td>\n",
       "      <td>150.437577</td>\n",
       "      <td>[{\"name\": \"Ingenious Film Partners\", \"id\": 289...</td>\n",
       "      <td>...</td>\n",
       "      <td>162.0</td>\n",
       "      <td>[{\"iso_639_1\": \"en\", \"name\": \"English\"}, {\"iso...</td>\n",
       "      <td>Released</td>\n",
       "      <td>Enter the World of Pandora.</td>\n",
       "      <td>Avatar</td>\n",
       "      <td>7.2</td>\n",
       "      <td>11800</td>\n",
       "      <td>19995</td>\n",
       "      <td>[{\"cast_id\": 242, \"character\": \"Jake Sully\", \"...</td>\n",
       "      <td>[{\"credit_id\": \"52fe48009251416c750aca23\", \"de...</td>\n",
       "    </tr>\n",
       "  </tbody>\n",
       "</table>\n",
       "<p>1 rows × 23 columns</p>\n",
       "</div>"
      ],
      "text/plain": [
       "      budget                                             genres  \\\n",
       "0  237000000  [{\"id\": 28, \"name\": \"Action\"}, {\"id\": 12, \"nam...   \n",
       "\n",
       "                      homepage     id  \\\n",
       "0  http://www.avatarmovie.com/  19995   \n",
       "\n",
       "                                            keywords original_language  \\\n",
       "0  [{\"id\": 1463, \"name\": \"culture clash\"}, {\"id\":...                en   \n",
       "\n",
       "  original_title                                           overview  \\\n",
       "0         Avatar  In the 22nd century, a paraplegic Marine is di...   \n",
       "\n",
       "   popularity                               production_companies  ... runtime  \\\n",
       "0  150.437577  [{\"name\": \"Ingenious Film Partners\", \"id\": 289...  ...   162.0   \n",
       "\n",
       "                                    spoken_languages    status  \\\n",
       "0  [{\"iso_639_1\": \"en\", \"name\": \"English\"}, {\"iso...  Released   \n",
       "\n",
       "                       tagline   title vote_average vote_count movie_id  \\\n",
       "0  Enter the World of Pandora.  Avatar          7.2      11800    19995   \n",
       "\n",
       "                                                cast  \\\n",
       "0  [{\"cast_id\": 242, \"character\": \"Jake Sully\", \"...   \n",
       "\n",
       "                                                crew  \n",
       "0  [{\"credit_id\": \"52fe48009251416c750aca23\", \"de...  \n",
       "\n",
       "[1 rows x 23 columns]"
      ]
     },
     "execution_count": 12,
     "metadata": {},
     "output_type": "execute_result"
    }
   ],
   "source": [
    "df_movies.head(1)"
   ]
  },
  {
   "cell_type": "code",
   "execution_count": 13,
   "id": "f1e8393c",
   "metadata": {
    "execution": {
     "iopub.execute_input": "2025-04-03T10:23:38.578002Z",
     "iopub.status.busy": "2025-04-03T10:23:38.577675Z",
     "iopub.status.idle": "2025-04-03T10:23:38.581537Z",
     "shell.execute_reply": "2025-04-03T10:23:38.580420Z"
    },
    "papermill": {
     "duration": 0.034183,
     "end_time": "2025-04-03T10:23:38.583183",
     "exception": false,
     "start_time": "2025-04-03T10:23:38.549000",
     "status": "completed"
    },
    "tags": []
   },
   "outputs": [],
   "source": [
    "#genres,id,keywords,title,overview,cast, crew(director)\n",
    "#original language not keeping as en is maximum so highly imbalance data\n",
    "#overview is basically the summary of the movie so \n",
    "#if the summary is quiet same it can help in comparison\n",
    "#release date could be a factor like mom dad ko 90s ki movies pasand hai"
   ]
  },
  {
   "cell_type": "code",
   "execution_count": 14,
   "id": "40b5ba87",
   "metadata": {
    "execution": {
     "iopub.execute_input": "2025-04-03T10:23:38.636770Z",
     "iopub.status.busy": "2025-04-03T10:23:38.636437Z",
     "iopub.status.idle": "2025-04-03T10:23:38.662411Z",
     "shell.execute_reply": "2025-04-03T10:23:38.661082Z"
    },
    "papermill": {
     "duration": 0.054779,
     "end_time": "2025-04-03T10:23:38.664228",
     "exception": false,
     "start_time": "2025-04-03T10:23:38.609449",
     "status": "completed"
    },
    "tags": []
   },
   "outputs": [
    {
     "name": "stdout",
     "output_type": "stream",
     "text": [
      "<class 'pandas.core.frame.DataFrame'>\n",
      "RangeIndex: 4809 entries, 0 to 4808\n",
      "Data columns (total 23 columns):\n",
      " #   Column                Non-Null Count  Dtype  \n",
      "---  ------                --------------  -----  \n",
      " 0   budget                4809 non-null   int64  \n",
      " 1   genres                4809 non-null   object \n",
      " 2   homepage              1713 non-null   object \n",
      " 3   id                    4809 non-null   int64  \n",
      " 4   keywords              4809 non-null   object \n",
      " 5   original_language     4809 non-null   object \n",
      " 6   original_title        4809 non-null   object \n",
      " 7   overview              4806 non-null   object \n",
      " 8   popularity            4809 non-null   float64\n",
      " 9   production_companies  4809 non-null   object \n",
      " 10  production_countries  4809 non-null   object \n",
      " 11  release_date          4808 non-null   object \n",
      " 12  revenue               4809 non-null   int64  \n",
      " 13  runtime               4807 non-null   float64\n",
      " 14  spoken_languages      4809 non-null   object \n",
      " 15  status                4809 non-null   object \n",
      " 16  tagline               3965 non-null   object \n",
      " 17  title                 4809 non-null   object \n",
      " 18  vote_average          4809 non-null   float64\n",
      " 19  vote_count            4809 non-null   int64  \n",
      " 20  movie_id              4809 non-null   int64  \n",
      " 21  cast                  4809 non-null   object \n",
      " 22  crew                  4809 non-null   object \n",
      "dtypes: float64(3), int64(5), object(15)\n",
      "memory usage: 864.2+ KB\n"
     ]
    }
   ],
   "source": [
    "df_movies.info()"
   ]
  },
  {
   "cell_type": "code",
   "execution_count": 15,
   "id": "5b9d6efb",
   "metadata": {
    "execution": {
     "iopub.execute_input": "2025-04-03T10:23:38.718127Z",
     "iopub.status.busy": "2025-04-03T10:23:38.717795Z",
     "iopub.status.idle": "2025-04-03T10:23:38.724023Z",
     "shell.execute_reply": "2025-04-03T10:23:38.722906Z"
    },
    "papermill": {
     "duration": 0.035078,
     "end_time": "2025-04-03T10:23:38.725754",
     "exception": false,
     "start_time": "2025-04-03T10:23:38.690676",
     "status": "completed"
    },
    "tags": []
   },
   "outputs": [],
   "source": [
    "df_movies=df_movies[['movie_id','title','overview','genres','keywords','cast','crew']]"
   ]
  },
  {
   "cell_type": "code",
   "execution_count": 16,
   "id": "18a98e56",
   "metadata": {
    "execution": {
     "iopub.execute_input": "2025-04-03T10:23:38.781256Z",
     "iopub.status.busy": "2025-04-03T10:23:38.780900Z",
     "iopub.status.idle": "2025-04-03T10:23:38.791485Z",
     "shell.execute_reply": "2025-04-03T10:23:38.790598Z"
    },
    "papermill": {
     "duration": 0.03984,
     "end_time": "2025-04-03T10:23:38.793148",
     "exception": false,
     "start_time": "2025-04-03T10:23:38.753308",
     "status": "completed"
    },
    "tags": []
   },
   "outputs": [
    {
     "data": {
      "text/plain": [
       "movie_id    0\n",
       "title       0\n",
       "overview    3\n",
       "genres      0\n",
       "keywords    0\n",
       "cast        0\n",
       "crew        0\n",
       "dtype: int64"
      ]
     },
     "execution_count": 16,
     "metadata": {},
     "output_type": "execute_result"
    }
   ],
   "source": [
    "df_movies.isnull().sum()"
   ]
  },
  {
   "cell_type": "code",
   "execution_count": 17,
   "id": "42ade347",
   "metadata": {
    "execution": {
     "iopub.execute_input": "2025-04-03T10:23:38.904192Z",
     "iopub.status.busy": "2025-04-03T10:23:38.903821Z",
     "iopub.status.idle": "2025-04-03T10:23:38.913966Z",
     "shell.execute_reply": "2025-04-03T10:23:38.912986Z"
    },
    "papermill": {
     "duration": 0.039633,
     "end_time": "2025-04-03T10:23:38.915778",
     "exception": false,
     "start_time": "2025-04-03T10:23:38.876145",
     "status": "completed"
    },
    "tags": []
   },
   "outputs": [],
   "source": [
    "df_movies=df_movies.dropna()"
   ]
  },
  {
   "cell_type": "code",
   "execution_count": 18,
   "id": "63b86093",
   "metadata": {
    "execution": {
     "iopub.execute_input": "2025-04-03T10:23:38.970845Z",
     "iopub.status.busy": "2025-04-03T10:23:38.970468Z",
     "iopub.status.idle": "2025-04-03T10:23:38.975938Z",
     "shell.execute_reply": "2025-04-03T10:23:38.974932Z"
    },
    "papermill": {
     "duration": 0.034742,
     "end_time": "2025-04-03T10:23:38.977616",
     "exception": false,
     "start_time": "2025-04-03T10:23:38.942874",
     "status": "completed"
    },
    "tags": []
   },
   "outputs": [
    {
     "data": {
      "text/plain": [
       "(4806, 7)"
      ]
     },
     "execution_count": 18,
     "metadata": {},
     "output_type": "execute_result"
    }
   ],
   "source": [
    "df_movies.shape"
   ]
  },
  {
   "cell_type": "code",
   "execution_count": 19,
   "id": "f54486ab",
   "metadata": {
    "execution": {
     "iopub.execute_input": "2025-04-03T10:23:39.032655Z",
     "iopub.status.busy": "2025-04-03T10:23:39.032229Z",
     "iopub.status.idle": "2025-04-03T10:23:39.135373Z",
     "shell.execute_reply": "2025-04-03T10:23:39.134234Z"
    },
    "papermill": {
     "duration": 0.132705,
     "end_time": "2025-04-03T10:23:39.137162",
     "exception": false,
     "start_time": "2025-04-03T10:23:39.004457",
     "status": "completed"
    },
    "tags": []
   },
   "outputs": [
    {
     "data": {
      "text/plain": [
       "0"
      ]
     },
     "execution_count": 19,
     "metadata": {},
     "output_type": "execute_result"
    }
   ],
   "source": [
    "df_movies.duplicated().sum()"
   ]
  },
  {
   "cell_type": "code",
   "execution_count": 20,
   "id": "2a70bbc1",
   "metadata": {
    "execution": {
     "iopub.execute_input": "2025-04-03T10:23:39.191648Z",
     "iopub.status.busy": "2025-04-03T10:23:39.191242Z",
     "iopub.status.idle": "2025-04-03T10:23:39.197129Z",
     "shell.execute_reply": "2025-04-03T10:23:39.196156Z"
    },
    "papermill": {
     "duration": 0.035132,
     "end_time": "2025-04-03T10:23:39.198942",
     "exception": false,
     "start_time": "2025-04-03T10:23:39.163810",
     "status": "completed"
    },
    "tags": []
   },
   "outputs": [
    {
     "data": {
      "text/plain": [
       "'[{\"id\": 28, \"name\": \"Action\"}, {\"id\": 12, \"name\": \"Adventure\"}, {\"id\": 14, \"name\": \"Fantasy\"}, {\"id\": 878, \"name\": \"Science Fiction\"}]'"
      ]
     },
     "execution_count": 20,
     "metadata": {},
     "output_type": "execute_result"
    }
   ],
   "source": [
    "df_movies.iloc[0].genres"
   ]
  },
  {
   "cell_type": "markdown",
   "id": "8c94337c",
   "metadata": {
    "papermill": {
     "duration": 0.026195,
     "end_time": "2025-04-03T10:23:39.251804",
     "exception": false,
     "start_time": "2025-04-03T10:23:39.225609",
     "status": "completed"
    },
    "tags": []
   },
   "source": [
    "the above section is string of list\n",
    "so we need to convert string of list to list\n"
   ]
  },
  {
   "cell_type": "code",
   "execution_count": 21,
   "id": "7f36a44d",
   "metadata": {
    "execution": {
     "iopub.execute_input": "2025-04-03T10:23:39.306384Z",
     "iopub.status.busy": "2025-04-03T10:23:39.305958Z",
     "iopub.status.idle": "2025-04-03T10:23:39.310742Z",
     "shell.execute_reply": "2025-04-03T10:23:39.309638Z"
    },
    "papermill": {
     "duration": 0.034099,
     "end_time": "2025-04-03T10:23:39.312469",
     "exception": false,
     "start_time": "2025-04-03T10:23:39.278370",
     "status": "completed"
    },
    "tags": []
   },
   "outputs": [],
   "source": [
    "import ast\n",
    "#{'Action','Adventure','Fantasy','Scifi'}\n",
    "def convert(obj):\n",
    "    L=[]\n",
    "    for i in ast.literal_eval(obj):\n",
    "        L.append(i['name'])\n",
    "    return L"
   ]
  },
  {
   "cell_type": "code",
   "execution_count": 22,
   "id": "9b594dab",
   "metadata": {
    "execution": {
     "iopub.execute_input": "2025-04-03T10:23:39.367786Z",
     "iopub.status.busy": "2025-04-03T10:23:39.367419Z",
     "iopub.status.idle": "2025-04-03T10:23:39.373740Z",
     "shell.execute_reply": "2025-04-03T10:23:39.372682Z"
    },
    "papermill": {
     "duration": 0.036401,
     "end_time": "2025-04-03T10:23:39.375502",
     "exception": false,
     "start_time": "2025-04-03T10:23:39.339101",
     "status": "completed"
    },
    "tags": []
   },
   "outputs": [
    {
     "data": {
      "text/plain": [
       "[{'id': 28, 'name': 'Action'},\n",
       " {'id': 12, 'name': 'Adventure'},\n",
       " {'id': 14, 'name': 'Fantasy'},\n",
       " {'id': 878, 'name': 'Science Fiction'}]"
      ]
     },
     "execution_count": 22,
     "metadata": {},
     "output_type": "execute_result"
    }
   ],
   "source": [
    "import ast\n",
    "ast.literal_eval('[{\"id\": 28, \"name\": \"Action\"}, {\"id\": 12, \"name\": \"Adventure\"}, {\"id\": 14, \"name\": \"Fantasy\"}, {\"id\": 878, \"name\": \"Science Fiction\"}]')"
   ]
  },
  {
   "cell_type": "code",
   "execution_count": 23,
   "id": "52616bb4",
   "metadata": {
    "execution": {
     "iopub.execute_input": "2025-04-03T10:23:39.430880Z",
     "iopub.status.busy": "2025-04-03T10:23:39.430470Z",
     "iopub.status.idle": "2025-04-03T10:23:39.657298Z",
     "shell.execute_reply": "2025-04-03T10:23:39.656193Z"
    },
    "papermill": {
     "duration": 0.256861,
     "end_time": "2025-04-03T10:23:39.659287",
     "exception": false,
     "start_time": "2025-04-03T10:23:39.402426",
     "status": "completed"
    },
    "tags": []
   },
   "outputs": [],
   "source": [
    "df_movies['genres']=df_movies['genres'].apply(convert)"
   ]
  },
  {
   "cell_type": "code",
   "execution_count": 24,
   "id": "931fcfb8",
   "metadata": {
    "execution": {
     "iopub.execute_input": "2025-04-03T10:23:39.714542Z",
     "iopub.status.busy": "2025-04-03T10:23:39.714165Z",
     "iopub.status.idle": "2025-04-03T10:23:39.728658Z",
     "shell.execute_reply": "2025-04-03T10:23:39.727580Z"
    },
    "papermill": {
     "duration": 0.04396,
     "end_time": "2025-04-03T10:23:39.730327",
     "exception": false,
     "start_time": "2025-04-03T10:23:39.686367",
     "status": "completed"
    },
    "tags": []
   },
   "outputs": [
    {
     "data": {
      "text/html": [
       "<div>\n",
       "<style scoped>\n",
       "    .dataframe tbody tr th:only-of-type {\n",
       "        vertical-align: middle;\n",
       "    }\n",
       "\n",
       "    .dataframe tbody tr th {\n",
       "        vertical-align: top;\n",
       "    }\n",
       "\n",
       "    .dataframe thead th {\n",
       "        text-align: right;\n",
       "    }\n",
       "</style>\n",
       "<table border=\"1\" class=\"dataframe\">\n",
       "  <thead>\n",
       "    <tr style=\"text-align: right;\">\n",
       "      <th></th>\n",
       "      <th>movie_id</th>\n",
       "      <th>title</th>\n",
       "      <th>overview</th>\n",
       "      <th>genres</th>\n",
       "      <th>keywords</th>\n",
       "      <th>cast</th>\n",
       "      <th>crew</th>\n",
       "    </tr>\n",
       "  </thead>\n",
       "  <tbody>\n",
       "    <tr>\n",
       "      <th>0</th>\n",
       "      <td>19995</td>\n",
       "      <td>Avatar</td>\n",
       "      <td>In the 22nd century, a paraplegic Marine is di...</td>\n",
       "      <td>[Action, Adventure, Fantasy, Science Fiction]</td>\n",
       "      <td>[{\"id\": 1463, \"name\": \"culture clash\"}, {\"id\":...</td>\n",
       "      <td>[{\"cast_id\": 242, \"character\": \"Jake Sully\", \"...</td>\n",
       "      <td>[{\"credit_id\": \"52fe48009251416c750aca23\", \"de...</td>\n",
       "    </tr>\n",
       "    <tr>\n",
       "      <th>1</th>\n",
       "      <td>285</td>\n",
       "      <td>Pirates of the Caribbean: At World's End</td>\n",
       "      <td>Captain Barbossa, long believed to be dead, ha...</td>\n",
       "      <td>[Adventure, Fantasy, Action]</td>\n",
       "      <td>[{\"id\": 270, \"name\": \"ocean\"}, {\"id\": 726, \"na...</td>\n",
       "      <td>[{\"cast_id\": 4, \"character\": \"Captain Jack Spa...</td>\n",
       "      <td>[{\"credit_id\": \"52fe4232c3a36847f800b579\", \"de...</td>\n",
       "    </tr>\n",
       "    <tr>\n",
       "      <th>2</th>\n",
       "      <td>206647</td>\n",
       "      <td>Spectre</td>\n",
       "      <td>A cryptic message from Bond’s past sends him o...</td>\n",
       "      <td>[Action, Adventure, Crime]</td>\n",
       "      <td>[{\"id\": 470, \"name\": \"spy\"}, {\"id\": 818, \"name...</td>\n",
       "      <td>[{\"cast_id\": 1, \"character\": \"James Bond\", \"cr...</td>\n",
       "      <td>[{\"credit_id\": \"54805967c3a36829b5002c41\", \"de...</td>\n",
       "    </tr>\n",
       "    <tr>\n",
       "      <th>3</th>\n",
       "      <td>49026</td>\n",
       "      <td>The Dark Knight Rises</td>\n",
       "      <td>Following the death of District Attorney Harve...</td>\n",
       "      <td>[Action, Crime, Drama, Thriller]</td>\n",
       "      <td>[{\"id\": 849, \"name\": \"dc comics\"}, {\"id\": 853,...</td>\n",
       "      <td>[{\"cast_id\": 2, \"character\": \"Bruce Wayne / Ba...</td>\n",
       "      <td>[{\"credit_id\": \"52fe4781c3a36847f81398c3\", \"de...</td>\n",
       "    </tr>\n",
       "    <tr>\n",
       "      <th>4</th>\n",
       "      <td>49529</td>\n",
       "      <td>John Carter</td>\n",
       "      <td>John Carter is a war-weary, former military ca...</td>\n",
       "      <td>[Action, Adventure, Science Fiction]</td>\n",
       "      <td>[{\"id\": 818, \"name\": \"based on novel\"}, {\"id\":...</td>\n",
       "      <td>[{\"cast_id\": 5, \"character\": \"John Carter\", \"c...</td>\n",
       "      <td>[{\"credit_id\": \"52fe479ac3a36847f813eaa3\", \"de...</td>\n",
       "    </tr>\n",
       "  </tbody>\n",
       "</table>\n",
       "</div>"
      ],
      "text/plain": [
       "   movie_id                                     title  \\\n",
       "0     19995                                    Avatar   \n",
       "1       285  Pirates of the Caribbean: At World's End   \n",
       "2    206647                                   Spectre   \n",
       "3     49026                     The Dark Knight Rises   \n",
       "4     49529                               John Carter   \n",
       "\n",
       "                                            overview  \\\n",
       "0  In the 22nd century, a paraplegic Marine is di...   \n",
       "1  Captain Barbossa, long believed to be dead, ha...   \n",
       "2  A cryptic message from Bond’s past sends him o...   \n",
       "3  Following the death of District Attorney Harve...   \n",
       "4  John Carter is a war-weary, former military ca...   \n",
       "\n",
       "                                          genres  \\\n",
       "0  [Action, Adventure, Fantasy, Science Fiction]   \n",
       "1                   [Adventure, Fantasy, Action]   \n",
       "2                     [Action, Adventure, Crime]   \n",
       "3               [Action, Crime, Drama, Thriller]   \n",
       "4           [Action, Adventure, Science Fiction]   \n",
       "\n",
       "                                            keywords  \\\n",
       "0  [{\"id\": 1463, \"name\": \"culture clash\"}, {\"id\":...   \n",
       "1  [{\"id\": 270, \"name\": \"ocean\"}, {\"id\": 726, \"na...   \n",
       "2  [{\"id\": 470, \"name\": \"spy\"}, {\"id\": 818, \"name...   \n",
       "3  [{\"id\": 849, \"name\": \"dc comics\"}, {\"id\": 853,...   \n",
       "4  [{\"id\": 818, \"name\": \"based on novel\"}, {\"id\":...   \n",
       "\n",
       "                                                cast  \\\n",
       "0  [{\"cast_id\": 242, \"character\": \"Jake Sully\", \"...   \n",
       "1  [{\"cast_id\": 4, \"character\": \"Captain Jack Spa...   \n",
       "2  [{\"cast_id\": 1, \"character\": \"James Bond\", \"cr...   \n",
       "3  [{\"cast_id\": 2, \"character\": \"Bruce Wayne / Ba...   \n",
       "4  [{\"cast_id\": 5, \"character\": \"John Carter\", \"c...   \n",
       "\n",
       "                                                crew  \n",
       "0  [{\"credit_id\": \"52fe48009251416c750aca23\", \"de...  \n",
       "1  [{\"credit_id\": \"52fe4232c3a36847f800b579\", \"de...  \n",
       "2  [{\"credit_id\": \"54805967c3a36829b5002c41\", \"de...  \n",
       "3  [{\"credit_id\": \"52fe4781c3a36847f81398c3\", \"de...  \n",
       "4  [{\"credit_id\": \"52fe479ac3a36847f813eaa3\", \"de...  "
      ]
     },
     "execution_count": 24,
     "metadata": {},
     "output_type": "execute_result"
    }
   ],
   "source": [
    "df_movies.head()\n"
   ]
  },
  {
   "cell_type": "code",
   "execution_count": 25,
   "id": "c22f122c",
   "metadata": {
    "execution": {
     "iopub.execute_input": "2025-04-03T10:23:39.788258Z",
     "iopub.status.busy": "2025-04-03T10:23:39.787936Z",
     "iopub.status.idle": "2025-04-03T10:23:40.191430Z",
     "shell.execute_reply": "2025-04-03T10:23:40.190441Z"
    },
    "papermill": {
     "duration": 0.43445,
     "end_time": "2025-04-03T10:23:40.193279",
     "exception": false,
     "start_time": "2025-04-03T10:23:39.758829",
     "status": "completed"
    },
    "tags": []
   },
   "outputs": [],
   "source": [
    "df_movies['keywords']=df_movies['keywords'].apply(convert)"
   ]
  },
  {
   "cell_type": "code",
   "execution_count": 26,
   "id": "cc7142a6",
   "metadata": {
    "execution": {
     "iopub.execute_input": "2025-04-03T10:23:40.255293Z",
     "iopub.status.busy": "2025-04-03T10:23:40.254969Z",
     "iopub.status.idle": "2025-04-03T10:23:40.270573Z",
     "shell.execute_reply": "2025-04-03T10:23:40.269556Z"
    },
    "papermill": {
     "duration": 0.048938,
     "end_time": "2025-04-03T10:23:40.272163",
     "exception": false,
     "start_time": "2025-04-03T10:23:40.223225",
     "status": "completed"
    },
    "tags": []
   },
   "outputs": [
    {
     "data": {
      "text/html": [
       "<div>\n",
       "<style scoped>\n",
       "    .dataframe tbody tr th:only-of-type {\n",
       "        vertical-align: middle;\n",
       "    }\n",
       "\n",
       "    .dataframe tbody tr th {\n",
       "        vertical-align: top;\n",
       "    }\n",
       "\n",
       "    .dataframe thead th {\n",
       "        text-align: right;\n",
       "    }\n",
       "</style>\n",
       "<table border=\"1\" class=\"dataframe\">\n",
       "  <thead>\n",
       "    <tr style=\"text-align: right;\">\n",
       "      <th></th>\n",
       "      <th>movie_id</th>\n",
       "      <th>title</th>\n",
       "      <th>overview</th>\n",
       "      <th>genres</th>\n",
       "      <th>keywords</th>\n",
       "      <th>cast</th>\n",
       "      <th>crew</th>\n",
       "    </tr>\n",
       "  </thead>\n",
       "  <tbody>\n",
       "    <tr>\n",
       "      <th>0</th>\n",
       "      <td>19995</td>\n",
       "      <td>Avatar</td>\n",
       "      <td>In the 22nd century, a paraplegic Marine is di...</td>\n",
       "      <td>[Action, Adventure, Fantasy, Science Fiction]</td>\n",
       "      <td>[culture clash, future, space war, space colon...</td>\n",
       "      <td>[{\"cast_id\": 242, \"character\": \"Jake Sully\", \"...</td>\n",
       "      <td>[{\"credit_id\": \"52fe48009251416c750aca23\", \"de...</td>\n",
       "    </tr>\n",
       "    <tr>\n",
       "      <th>1</th>\n",
       "      <td>285</td>\n",
       "      <td>Pirates of the Caribbean: At World's End</td>\n",
       "      <td>Captain Barbossa, long believed to be dead, ha...</td>\n",
       "      <td>[Adventure, Fantasy, Action]</td>\n",
       "      <td>[ocean, drug abuse, exotic island, east india ...</td>\n",
       "      <td>[{\"cast_id\": 4, \"character\": \"Captain Jack Spa...</td>\n",
       "      <td>[{\"credit_id\": \"52fe4232c3a36847f800b579\", \"de...</td>\n",
       "    </tr>\n",
       "    <tr>\n",
       "      <th>2</th>\n",
       "      <td>206647</td>\n",
       "      <td>Spectre</td>\n",
       "      <td>A cryptic message from Bond’s past sends him o...</td>\n",
       "      <td>[Action, Adventure, Crime]</td>\n",
       "      <td>[spy, based on novel, secret agent, sequel, mi...</td>\n",
       "      <td>[{\"cast_id\": 1, \"character\": \"James Bond\", \"cr...</td>\n",
       "      <td>[{\"credit_id\": \"54805967c3a36829b5002c41\", \"de...</td>\n",
       "    </tr>\n",
       "    <tr>\n",
       "      <th>3</th>\n",
       "      <td>49026</td>\n",
       "      <td>The Dark Knight Rises</td>\n",
       "      <td>Following the death of District Attorney Harve...</td>\n",
       "      <td>[Action, Crime, Drama, Thriller]</td>\n",
       "      <td>[dc comics, crime fighter, terrorist, secret i...</td>\n",
       "      <td>[{\"cast_id\": 2, \"character\": \"Bruce Wayne / Ba...</td>\n",
       "      <td>[{\"credit_id\": \"52fe4781c3a36847f81398c3\", \"de...</td>\n",
       "    </tr>\n",
       "    <tr>\n",
       "      <th>4</th>\n",
       "      <td>49529</td>\n",
       "      <td>John Carter</td>\n",
       "      <td>John Carter is a war-weary, former military ca...</td>\n",
       "      <td>[Action, Adventure, Science Fiction]</td>\n",
       "      <td>[based on novel, mars, medallion, space travel...</td>\n",
       "      <td>[{\"cast_id\": 5, \"character\": \"John Carter\", \"c...</td>\n",
       "      <td>[{\"credit_id\": \"52fe479ac3a36847f813eaa3\", \"de...</td>\n",
       "    </tr>\n",
       "  </tbody>\n",
       "</table>\n",
       "</div>"
      ],
      "text/plain": [
       "   movie_id                                     title  \\\n",
       "0     19995                                    Avatar   \n",
       "1       285  Pirates of the Caribbean: At World's End   \n",
       "2    206647                                   Spectre   \n",
       "3     49026                     The Dark Knight Rises   \n",
       "4     49529                               John Carter   \n",
       "\n",
       "                                            overview  \\\n",
       "0  In the 22nd century, a paraplegic Marine is di...   \n",
       "1  Captain Barbossa, long believed to be dead, ha...   \n",
       "2  A cryptic message from Bond’s past sends him o...   \n",
       "3  Following the death of District Attorney Harve...   \n",
       "4  John Carter is a war-weary, former military ca...   \n",
       "\n",
       "                                          genres  \\\n",
       "0  [Action, Adventure, Fantasy, Science Fiction]   \n",
       "1                   [Adventure, Fantasy, Action]   \n",
       "2                     [Action, Adventure, Crime]   \n",
       "3               [Action, Crime, Drama, Thriller]   \n",
       "4           [Action, Adventure, Science Fiction]   \n",
       "\n",
       "                                            keywords  \\\n",
       "0  [culture clash, future, space war, space colon...   \n",
       "1  [ocean, drug abuse, exotic island, east india ...   \n",
       "2  [spy, based on novel, secret agent, sequel, mi...   \n",
       "3  [dc comics, crime fighter, terrorist, secret i...   \n",
       "4  [based on novel, mars, medallion, space travel...   \n",
       "\n",
       "                                                cast  \\\n",
       "0  [{\"cast_id\": 242, \"character\": \"Jake Sully\", \"...   \n",
       "1  [{\"cast_id\": 4, \"character\": \"Captain Jack Spa...   \n",
       "2  [{\"cast_id\": 1, \"character\": \"James Bond\", \"cr...   \n",
       "3  [{\"cast_id\": 2, \"character\": \"Bruce Wayne / Ba...   \n",
       "4  [{\"cast_id\": 5, \"character\": \"John Carter\", \"c...   \n",
       "\n",
       "                                                crew  \n",
       "0  [{\"credit_id\": \"52fe48009251416c750aca23\", \"de...  \n",
       "1  [{\"credit_id\": \"52fe4232c3a36847f800b579\", \"de...  \n",
       "2  [{\"credit_id\": \"54805967c3a36829b5002c41\", \"de...  \n",
       "3  [{\"credit_id\": \"52fe4781c3a36847f81398c3\", \"de...  \n",
       "4  [{\"credit_id\": \"52fe479ac3a36847f813eaa3\", \"de...  "
      ]
     },
     "execution_count": 26,
     "metadata": {},
     "output_type": "execute_result"
    }
   ],
   "source": [
    "df_movies.head()"
   ]
  },
  {
   "cell_type": "code",
   "execution_count": 27,
   "id": "a94b2d27",
   "metadata": {
    "execution": {
     "iopub.execute_input": "2025-04-03T10:23:40.330593Z",
     "iopub.status.busy": "2025-04-03T10:23:40.330215Z",
     "iopub.status.idle": "2025-04-03T10:23:40.335080Z",
     "shell.execute_reply": "2025-04-03T10:23:40.334113Z"
    },
    "papermill": {
     "duration": 0.035427,
     "end_time": "2025-04-03T10:23:40.336607",
     "exception": false,
     "start_time": "2025-04-03T10:23:40.301180",
     "status": "completed"
    },
    "tags": []
   },
   "outputs": [],
   "source": [
    "import ast\n",
    "\n",
    "def convert3(obj):\n",
    "    L=[]\n",
    "    counter=0\n",
    "    for i in ast.literal_eval(obj):\n",
    "        if counter!=3:\n",
    "            L.append(i['name'])\n",
    "            counter += 1\n",
    "        else:\n",
    "            break\n",
    "    return L"
   ]
  },
  {
   "cell_type": "code",
   "execution_count": 28,
   "id": "da9d1469",
   "metadata": {
    "execution": {
     "iopub.execute_input": "2025-04-03T10:23:40.395122Z",
     "iopub.status.busy": "2025-04-03T10:23:40.394780Z",
     "iopub.status.idle": "2025-04-03T10:23:43.862650Z",
     "shell.execute_reply": "2025-04-03T10:23:43.861590Z"
    },
    "papermill": {
     "duration": 3.499459,
     "end_time": "2025-04-03T10:23:43.864633",
     "exception": false,
     "start_time": "2025-04-03T10:23:40.365174",
     "status": "completed"
    },
    "tags": []
   },
   "outputs": [],
   "source": [
    "df_movies['cast']=df_movies['cast'].apply(convert3)"
   ]
  },
  {
   "cell_type": "code",
   "execution_count": 29,
   "id": "03e4efab",
   "metadata": {
    "execution": {
     "iopub.execute_input": "2025-04-03T10:23:43.922138Z",
     "iopub.status.busy": "2025-04-03T10:23:43.921775Z",
     "iopub.status.idle": "2025-04-03T10:23:43.938464Z",
     "shell.execute_reply": "2025-04-03T10:23:43.937440Z"
    },
    "papermill": {
     "duration": 0.047418,
     "end_time": "2025-04-03T10:23:43.940114",
     "exception": false,
     "start_time": "2025-04-03T10:23:43.892696",
     "status": "completed"
    },
    "tags": []
   },
   "outputs": [
    {
     "data": {
      "text/html": [
       "<div>\n",
       "<style scoped>\n",
       "    .dataframe tbody tr th:only-of-type {\n",
       "        vertical-align: middle;\n",
       "    }\n",
       "\n",
       "    .dataframe tbody tr th {\n",
       "        vertical-align: top;\n",
       "    }\n",
       "\n",
       "    .dataframe thead th {\n",
       "        text-align: right;\n",
       "    }\n",
       "</style>\n",
       "<table border=\"1\" class=\"dataframe\">\n",
       "  <thead>\n",
       "    <tr style=\"text-align: right;\">\n",
       "      <th></th>\n",
       "      <th>movie_id</th>\n",
       "      <th>title</th>\n",
       "      <th>overview</th>\n",
       "      <th>genres</th>\n",
       "      <th>keywords</th>\n",
       "      <th>cast</th>\n",
       "      <th>crew</th>\n",
       "    </tr>\n",
       "  </thead>\n",
       "  <tbody>\n",
       "    <tr>\n",
       "      <th>0</th>\n",
       "      <td>19995</td>\n",
       "      <td>Avatar</td>\n",
       "      <td>In the 22nd century, a paraplegic Marine is di...</td>\n",
       "      <td>[Action, Adventure, Fantasy, Science Fiction]</td>\n",
       "      <td>[culture clash, future, space war, space colon...</td>\n",
       "      <td>[Sam Worthington, Zoe Saldana, Sigourney Weaver]</td>\n",
       "      <td>[{\"credit_id\": \"52fe48009251416c750aca23\", \"de...</td>\n",
       "    </tr>\n",
       "    <tr>\n",
       "      <th>1</th>\n",
       "      <td>285</td>\n",
       "      <td>Pirates of the Caribbean: At World's End</td>\n",
       "      <td>Captain Barbossa, long believed to be dead, ha...</td>\n",
       "      <td>[Adventure, Fantasy, Action]</td>\n",
       "      <td>[ocean, drug abuse, exotic island, east india ...</td>\n",
       "      <td>[Johnny Depp, Orlando Bloom, Keira Knightley]</td>\n",
       "      <td>[{\"credit_id\": \"52fe4232c3a36847f800b579\", \"de...</td>\n",
       "    </tr>\n",
       "    <tr>\n",
       "      <th>2</th>\n",
       "      <td>206647</td>\n",
       "      <td>Spectre</td>\n",
       "      <td>A cryptic message from Bond’s past sends him o...</td>\n",
       "      <td>[Action, Adventure, Crime]</td>\n",
       "      <td>[spy, based on novel, secret agent, sequel, mi...</td>\n",
       "      <td>[Daniel Craig, Christoph Waltz, Léa Seydoux]</td>\n",
       "      <td>[{\"credit_id\": \"54805967c3a36829b5002c41\", \"de...</td>\n",
       "    </tr>\n",
       "    <tr>\n",
       "      <th>3</th>\n",
       "      <td>49026</td>\n",
       "      <td>The Dark Knight Rises</td>\n",
       "      <td>Following the death of District Attorney Harve...</td>\n",
       "      <td>[Action, Crime, Drama, Thriller]</td>\n",
       "      <td>[dc comics, crime fighter, terrorist, secret i...</td>\n",
       "      <td>[Christian Bale, Michael Caine, Gary Oldman]</td>\n",
       "      <td>[{\"credit_id\": \"52fe4781c3a36847f81398c3\", \"de...</td>\n",
       "    </tr>\n",
       "    <tr>\n",
       "      <th>4</th>\n",
       "      <td>49529</td>\n",
       "      <td>John Carter</td>\n",
       "      <td>John Carter is a war-weary, former military ca...</td>\n",
       "      <td>[Action, Adventure, Science Fiction]</td>\n",
       "      <td>[based on novel, mars, medallion, space travel...</td>\n",
       "      <td>[Taylor Kitsch, Lynn Collins, Samantha Morton]</td>\n",
       "      <td>[{\"credit_id\": \"52fe479ac3a36847f813eaa3\", \"de...</td>\n",
       "    </tr>\n",
       "  </tbody>\n",
       "</table>\n",
       "</div>"
      ],
      "text/plain": [
       "   movie_id                                     title  \\\n",
       "0     19995                                    Avatar   \n",
       "1       285  Pirates of the Caribbean: At World's End   \n",
       "2    206647                                   Spectre   \n",
       "3     49026                     The Dark Knight Rises   \n",
       "4     49529                               John Carter   \n",
       "\n",
       "                                            overview  \\\n",
       "0  In the 22nd century, a paraplegic Marine is di...   \n",
       "1  Captain Barbossa, long believed to be dead, ha...   \n",
       "2  A cryptic message from Bond’s past sends him o...   \n",
       "3  Following the death of District Attorney Harve...   \n",
       "4  John Carter is a war-weary, former military ca...   \n",
       "\n",
       "                                          genres  \\\n",
       "0  [Action, Adventure, Fantasy, Science Fiction]   \n",
       "1                   [Adventure, Fantasy, Action]   \n",
       "2                     [Action, Adventure, Crime]   \n",
       "3               [Action, Crime, Drama, Thriller]   \n",
       "4           [Action, Adventure, Science Fiction]   \n",
       "\n",
       "                                            keywords  \\\n",
       "0  [culture clash, future, space war, space colon...   \n",
       "1  [ocean, drug abuse, exotic island, east india ...   \n",
       "2  [spy, based on novel, secret agent, sequel, mi...   \n",
       "3  [dc comics, crime fighter, terrorist, secret i...   \n",
       "4  [based on novel, mars, medallion, space travel...   \n",
       "\n",
       "                                               cast  \\\n",
       "0  [Sam Worthington, Zoe Saldana, Sigourney Weaver]   \n",
       "1     [Johnny Depp, Orlando Bloom, Keira Knightley]   \n",
       "2      [Daniel Craig, Christoph Waltz, Léa Seydoux]   \n",
       "3      [Christian Bale, Michael Caine, Gary Oldman]   \n",
       "4    [Taylor Kitsch, Lynn Collins, Samantha Morton]   \n",
       "\n",
       "                                                crew  \n",
       "0  [{\"credit_id\": \"52fe48009251416c750aca23\", \"de...  \n",
       "1  [{\"credit_id\": \"52fe4232c3a36847f800b579\", \"de...  \n",
       "2  [{\"credit_id\": \"54805967c3a36829b5002c41\", \"de...  \n",
       "3  [{\"credit_id\": \"52fe4781c3a36847f81398c3\", \"de...  \n",
       "4  [{\"credit_id\": \"52fe479ac3a36847f813eaa3\", \"de...  "
      ]
     },
     "execution_count": 29,
     "metadata": {},
     "output_type": "execute_result"
    }
   ],
   "source": [
    "df_movies.head()"
   ]
  },
  {
   "cell_type": "code",
   "execution_count": 30,
   "id": "39c2a691",
   "metadata": {
    "execution": {
     "iopub.execute_input": "2025-04-03T10:23:44.000770Z",
     "iopub.status.busy": "2025-04-03T10:23:44.000444Z",
     "iopub.status.idle": "2025-04-03T10:23:44.005140Z",
     "shell.execute_reply": "2025-04-03T10:23:44.004005Z"
    },
    "papermill": {
     "duration": 0.038103,
     "end_time": "2025-04-03T10:23:44.006799",
     "exception": false,
     "start_time": "2025-04-03T10:23:43.968696",
     "status": "completed"
    },
    "tags": []
   },
   "outputs": [],
   "source": [
    "import ast\n",
    "\n",
    "def fetch_director(obj):\n",
    "    L=[]\n",
    "    \n",
    "    for i in ast.literal_eval(obj):\n",
    "        if i['job']=='Director':\n",
    "            L.append(i['name'])\n",
    "            break\n",
    "    return L"
   ]
  },
  {
   "cell_type": "code",
   "execution_count": 31,
   "id": "c4da7e97",
   "metadata": {
    "execution": {
     "iopub.execute_input": "2025-04-03T10:23:44.064619Z",
     "iopub.status.busy": "2025-04-03T10:23:44.064251Z",
     "iopub.status.idle": "2025-04-03T10:23:47.693536Z",
     "shell.execute_reply": "2025-04-03T10:23:47.692588Z"
    },
    "papermill": {
     "duration": 3.660408,
     "end_time": "2025-04-03T10:23:47.695672",
     "exception": false,
     "start_time": "2025-04-03T10:23:44.035264",
     "status": "completed"
    },
    "tags": []
   },
   "outputs": [],
   "source": [
    "df_movies['crew']=df_movies['crew'].apply(fetch_director)"
   ]
  },
  {
   "cell_type": "code",
   "execution_count": 32,
   "id": "fc2181b6",
   "metadata": {
    "execution": {
     "iopub.execute_input": "2025-04-03T10:23:47.754665Z",
     "iopub.status.busy": "2025-04-03T10:23:47.754271Z",
     "iopub.status.idle": "2025-04-03T10:23:47.777728Z",
     "shell.execute_reply": "2025-04-03T10:23:47.776479Z"
    },
    "papermill": {
     "duration": 0.054791,
     "end_time": "2025-04-03T10:23:47.779480",
     "exception": false,
     "start_time": "2025-04-03T10:23:47.724689",
     "status": "completed"
    },
    "tags": []
   },
   "outputs": [
    {
     "data": {
      "text/html": [
       "<div>\n",
       "<style scoped>\n",
       "    .dataframe tbody tr th:only-of-type {\n",
       "        vertical-align: middle;\n",
       "    }\n",
       "\n",
       "    .dataframe tbody tr th {\n",
       "        vertical-align: top;\n",
       "    }\n",
       "\n",
       "    .dataframe thead th {\n",
       "        text-align: right;\n",
       "    }\n",
       "</style>\n",
       "<table border=\"1\" class=\"dataframe\">\n",
       "  <thead>\n",
       "    <tr style=\"text-align: right;\">\n",
       "      <th></th>\n",
       "      <th>movie_id</th>\n",
       "      <th>title</th>\n",
       "      <th>overview</th>\n",
       "      <th>genres</th>\n",
       "      <th>keywords</th>\n",
       "      <th>cast</th>\n",
       "      <th>crew</th>\n",
       "    </tr>\n",
       "  </thead>\n",
       "  <tbody>\n",
       "    <tr>\n",
       "      <th>0</th>\n",
       "      <td>19995</td>\n",
       "      <td>Avatar</td>\n",
       "      <td>In the 22nd century, a paraplegic Marine is di...</td>\n",
       "      <td>[Action, Adventure, Fantasy, Science Fiction]</td>\n",
       "      <td>[culture clash, future, space war, space colon...</td>\n",
       "      <td>[Sam Worthington, Zoe Saldana, Sigourney Weaver]</td>\n",
       "      <td>[James Cameron]</td>\n",
       "    </tr>\n",
       "    <tr>\n",
       "      <th>1</th>\n",
       "      <td>285</td>\n",
       "      <td>Pirates of the Caribbean: At World's End</td>\n",
       "      <td>Captain Barbossa, long believed to be dead, ha...</td>\n",
       "      <td>[Adventure, Fantasy, Action]</td>\n",
       "      <td>[ocean, drug abuse, exotic island, east india ...</td>\n",
       "      <td>[Johnny Depp, Orlando Bloom, Keira Knightley]</td>\n",
       "      <td>[Gore Verbinski]</td>\n",
       "    </tr>\n",
       "    <tr>\n",
       "      <th>2</th>\n",
       "      <td>206647</td>\n",
       "      <td>Spectre</td>\n",
       "      <td>A cryptic message from Bond’s past sends him o...</td>\n",
       "      <td>[Action, Adventure, Crime]</td>\n",
       "      <td>[spy, based on novel, secret agent, sequel, mi...</td>\n",
       "      <td>[Daniel Craig, Christoph Waltz, Léa Seydoux]</td>\n",
       "      <td>[Sam Mendes]</td>\n",
       "    </tr>\n",
       "    <tr>\n",
       "      <th>3</th>\n",
       "      <td>49026</td>\n",
       "      <td>The Dark Knight Rises</td>\n",
       "      <td>Following the death of District Attorney Harve...</td>\n",
       "      <td>[Action, Crime, Drama, Thriller]</td>\n",
       "      <td>[dc comics, crime fighter, terrorist, secret i...</td>\n",
       "      <td>[Christian Bale, Michael Caine, Gary Oldman]</td>\n",
       "      <td>[Christopher Nolan]</td>\n",
       "    </tr>\n",
       "    <tr>\n",
       "      <th>4</th>\n",
       "      <td>49529</td>\n",
       "      <td>John Carter</td>\n",
       "      <td>John Carter is a war-weary, former military ca...</td>\n",
       "      <td>[Action, Adventure, Science Fiction]</td>\n",
       "      <td>[based on novel, mars, medallion, space travel...</td>\n",
       "      <td>[Taylor Kitsch, Lynn Collins, Samantha Morton]</td>\n",
       "      <td>[Andrew Stanton]</td>\n",
       "    </tr>\n",
       "    <tr>\n",
       "      <th>...</th>\n",
       "      <td>...</td>\n",
       "      <td>...</td>\n",
       "      <td>...</td>\n",
       "      <td>...</td>\n",
       "      <td>...</td>\n",
       "      <td>...</td>\n",
       "      <td>...</td>\n",
       "    </tr>\n",
       "    <tr>\n",
       "      <th>4804</th>\n",
       "      <td>9367</td>\n",
       "      <td>El Mariachi</td>\n",
       "      <td>El Mariachi just wants to play his guitar and ...</td>\n",
       "      <td>[Action, Crime, Thriller]</td>\n",
       "      <td>[united states–mexico barrier, legs, arms, pap...</td>\n",
       "      <td>[Carlos Gallardo, Jaime de Hoyos, Peter Marqua...</td>\n",
       "      <td>[Robert Rodriguez]</td>\n",
       "    </tr>\n",
       "    <tr>\n",
       "      <th>4805</th>\n",
       "      <td>72766</td>\n",
       "      <td>Newlyweds</td>\n",
       "      <td>A newlywed couple's honeymoon is upended by th...</td>\n",
       "      <td>[Comedy, Romance]</td>\n",
       "      <td>[]</td>\n",
       "      <td>[Edward Burns, Kerry Bishé, Marsha Dietlein]</td>\n",
       "      <td>[Edward Burns]</td>\n",
       "    </tr>\n",
       "    <tr>\n",
       "      <th>4806</th>\n",
       "      <td>231617</td>\n",
       "      <td>Signed, Sealed, Delivered</td>\n",
       "      <td>\"Signed, Sealed, Delivered\" introduces a dedic...</td>\n",
       "      <td>[Comedy, Drama, Romance, TV Movie]</td>\n",
       "      <td>[date, love at first sight, narration, investi...</td>\n",
       "      <td>[Eric Mabius, Kristin Booth, Crystal Lowe]</td>\n",
       "      <td>[Scott Smith]</td>\n",
       "    </tr>\n",
       "    <tr>\n",
       "      <th>4807</th>\n",
       "      <td>126186</td>\n",
       "      <td>Shanghai Calling</td>\n",
       "      <td>When ambitious New York attorney Sam is sent t...</td>\n",
       "      <td>[]</td>\n",
       "      <td>[]</td>\n",
       "      <td>[Daniel Henney, Eliza Coupe, Bill Paxton]</td>\n",
       "      <td>[Daniel Hsia]</td>\n",
       "    </tr>\n",
       "    <tr>\n",
       "      <th>4808</th>\n",
       "      <td>25975</td>\n",
       "      <td>My Date with Drew</td>\n",
       "      <td>Ever since the second grade when he first saw ...</td>\n",
       "      <td>[Documentary]</td>\n",
       "      <td>[obsession, camcorder, crush, dream girl]</td>\n",
       "      <td>[Drew Barrymore, Brian Herzlinger, Corey Feldman]</td>\n",
       "      <td>[Brian Herzlinger]</td>\n",
       "    </tr>\n",
       "  </tbody>\n",
       "</table>\n",
       "<p>4806 rows × 7 columns</p>\n",
       "</div>"
      ],
      "text/plain": [
       "      movie_id                                     title  \\\n",
       "0        19995                                    Avatar   \n",
       "1          285  Pirates of the Caribbean: At World's End   \n",
       "2       206647                                   Spectre   \n",
       "3        49026                     The Dark Knight Rises   \n",
       "4        49529                               John Carter   \n",
       "...        ...                                       ...   \n",
       "4804      9367                               El Mariachi   \n",
       "4805     72766                                 Newlyweds   \n",
       "4806    231617                 Signed, Sealed, Delivered   \n",
       "4807    126186                          Shanghai Calling   \n",
       "4808     25975                         My Date with Drew   \n",
       "\n",
       "                                               overview  \\\n",
       "0     In the 22nd century, a paraplegic Marine is di...   \n",
       "1     Captain Barbossa, long believed to be dead, ha...   \n",
       "2     A cryptic message from Bond’s past sends him o...   \n",
       "3     Following the death of District Attorney Harve...   \n",
       "4     John Carter is a war-weary, former military ca...   \n",
       "...                                                 ...   \n",
       "4804  El Mariachi just wants to play his guitar and ...   \n",
       "4805  A newlywed couple's honeymoon is upended by th...   \n",
       "4806  \"Signed, Sealed, Delivered\" introduces a dedic...   \n",
       "4807  When ambitious New York attorney Sam is sent t...   \n",
       "4808  Ever since the second grade when he first saw ...   \n",
       "\n",
       "                                             genres  \\\n",
       "0     [Action, Adventure, Fantasy, Science Fiction]   \n",
       "1                      [Adventure, Fantasy, Action]   \n",
       "2                        [Action, Adventure, Crime]   \n",
       "3                  [Action, Crime, Drama, Thriller]   \n",
       "4              [Action, Adventure, Science Fiction]   \n",
       "...                                             ...   \n",
       "4804                      [Action, Crime, Thriller]   \n",
       "4805                              [Comedy, Romance]   \n",
       "4806             [Comedy, Drama, Romance, TV Movie]   \n",
       "4807                                             []   \n",
       "4808                                  [Documentary]   \n",
       "\n",
       "                                               keywords  \\\n",
       "0     [culture clash, future, space war, space colon...   \n",
       "1     [ocean, drug abuse, exotic island, east india ...   \n",
       "2     [spy, based on novel, secret agent, sequel, mi...   \n",
       "3     [dc comics, crime fighter, terrorist, secret i...   \n",
       "4     [based on novel, mars, medallion, space travel...   \n",
       "...                                                 ...   \n",
       "4804  [united states–mexico barrier, legs, arms, pap...   \n",
       "4805                                                 []   \n",
       "4806  [date, love at first sight, narration, investi...   \n",
       "4807                                                 []   \n",
       "4808          [obsession, camcorder, crush, dream girl]   \n",
       "\n",
       "                                                   cast                 crew  \n",
       "0      [Sam Worthington, Zoe Saldana, Sigourney Weaver]      [James Cameron]  \n",
       "1         [Johnny Depp, Orlando Bloom, Keira Knightley]     [Gore Verbinski]  \n",
       "2          [Daniel Craig, Christoph Waltz, Léa Seydoux]         [Sam Mendes]  \n",
       "3          [Christian Bale, Michael Caine, Gary Oldman]  [Christopher Nolan]  \n",
       "4        [Taylor Kitsch, Lynn Collins, Samantha Morton]     [Andrew Stanton]  \n",
       "...                                                 ...                  ...  \n",
       "4804  [Carlos Gallardo, Jaime de Hoyos, Peter Marqua...   [Robert Rodriguez]  \n",
       "4805       [Edward Burns, Kerry Bishé, Marsha Dietlein]       [Edward Burns]  \n",
       "4806         [Eric Mabius, Kristin Booth, Crystal Lowe]        [Scott Smith]  \n",
       "4807          [Daniel Henney, Eliza Coupe, Bill Paxton]        [Daniel Hsia]  \n",
       "4808  [Drew Barrymore, Brian Herzlinger, Corey Feldman]   [Brian Herzlinger]  \n",
       "\n",
       "[4806 rows x 7 columns]"
      ]
     },
     "execution_count": 32,
     "metadata": {},
     "output_type": "execute_result"
    }
   ],
   "source": [
    "df_movies"
   ]
  },
  {
   "cell_type": "code",
   "execution_count": 33,
   "id": "1df1bbf9",
   "metadata": {
    "execution": {
     "iopub.execute_input": "2025-04-03T10:23:47.840438Z",
     "iopub.status.busy": "2025-04-03T10:23:47.840057Z",
     "iopub.status.idle": "2025-04-03T10:23:47.846238Z",
     "shell.execute_reply": "2025-04-03T10:23:47.845181Z"
    },
    "papermill": {
     "duration": 0.038325,
     "end_time": "2025-04-03T10:23:47.847949",
     "exception": false,
     "start_time": "2025-04-03T10:23:47.809624",
     "status": "completed"
    },
    "tags": []
   },
   "outputs": [
    {
     "data": {
      "text/plain": [
       "'In the 22nd century, a paraplegic Marine is dispatched to the moon Pandora on a unique mission, but becomes torn between following orders and protecting an alien civilization.'"
      ]
     },
     "execution_count": 33,
     "metadata": {},
     "output_type": "execute_result"
    }
   ],
   "source": [
    "movies['overview'][0]"
   ]
  },
  {
   "cell_type": "code",
   "execution_count": 34,
   "id": "bfa9e429",
   "metadata": {
    "execution": {
     "iopub.execute_input": "2025-04-03T10:23:47.908542Z",
     "iopub.status.busy": "2025-04-03T10:23:47.908146Z",
     "iopub.status.idle": "2025-04-03T10:23:47.948736Z",
     "shell.execute_reply": "2025-04-03T10:23:47.947629Z"
    },
    "papermill": {
     "duration": 0.073279,
     "end_time": "2025-04-03T10:23:47.950537",
     "exception": false,
     "start_time": "2025-04-03T10:23:47.877258",
     "status": "completed"
    },
    "tags": []
   },
   "outputs": [],
   "source": [
    "df_movies['overview']=df_movies['overview'].apply(lambda x:x.split())"
   ]
  },
  {
   "cell_type": "code",
   "execution_count": 35,
   "id": "9ad4a4a3",
   "metadata": {
    "execution": {
     "iopub.execute_input": "2025-04-03T10:23:48.013331Z",
     "iopub.status.busy": "2025-04-03T10:23:48.013006Z",
     "iopub.status.idle": "2025-04-03T10:23:48.032739Z",
     "shell.execute_reply": "2025-04-03T10:23:48.031442Z"
    },
    "papermill": {
     "duration": 0.052585,
     "end_time": "2025-04-03T10:23:48.034493",
     "exception": false,
     "start_time": "2025-04-03T10:23:47.981908",
     "status": "completed"
    },
    "tags": []
   },
   "outputs": [
    {
     "data": {
      "text/html": [
       "<div>\n",
       "<style scoped>\n",
       "    .dataframe tbody tr th:only-of-type {\n",
       "        vertical-align: middle;\n",
       "    }\n",
       "\n",
       "    .dataframe tbody tr th {\n",
       "        vertical-align: top;\n",
       "    }\n",
       "\n",
       "    .dataframe thead th {\n",
       "        text-align: right;\n",
       "    }\n",
       "</style>\n",
       "<table border=\"1\" class=\"dataframe\">\n",
       "  <thead>\n",
       "    <tr style=\"text-align: right;\">\n",
       "      <th></th>\n",
       "      <th>movie_id</th>\n",
       "      <th>title</th>\n",
       "      <th>overview</th>\n",
       "      <th>genres</th>\n",
       "      <th>keywords</th>\n",
       "      <th>cast</th>\n",
       "      <th>crew</th>\n",
       "    </tr>\n",
       "  </thead>\n",
       "  <tbody>\n",
       "    <tr>\n",
       "      <th>0</th>\n",
       "      <td>19995</td>\n",
       "      <td>Avatar</td>\n",
       "      <td>[In, the, 22nd, century,, a, paraplegic, Marin...</td>\n",
       "      <td>[Action, Adventure, Fantasy, Science Fiction]</td>\n",
       "      <td>[culture clash, future, space war, space colon...</td>\n",
       "      <td>[Sam Worthington, Zoe Saldana, Sigourney Weaver]</td>\n",
       "      <td>[James Cameron]</td>\n",
       "    </tr>\n",
       "    <tr>\n",
       "      <th>1</th>\n",
       "      <td>285</td>\n",
       "      <td>Pirates of the Caribbean: At World's End</td>\n",
       "      <td>[Captain, Barbossa,, long, believed, to, be, d...</td>\n",
       "      <td>[Adventure, Fantasy, Action]</td>\n",
       "      <td>[ocean, drug abuse, exotic island, east india ...</td>\n",
       "      <td>[Johnny Depp, Orlando Bloom, Keira Knightley]</td>\n",
       "      <td>[Gore Verbinski]</td>\n",
       "    </tr>\n",
       "    <tr>\n",
       "      <th>2</th>\n",
       "      <td>206647</td>\n",
       "      <td>Spectre</td>\n",
       "      <td>[A, cryptic, message, from, Bond’s, past, send...</td>\n",
       "      <td>[Action, Adventure, Crime]</td>\n",
       "      <td>[spy, based on novel, secret agent, sequel, mi...</td>\n",
       "      <td>[Daniel Craig, Christoph Waltz, Léa Seydoux]</td>\n",
       "      <td>[Sam Mendes]</td>\n",
       "    </tr>\n",
       "    <tr>\n",
       "      <th>3</th>\n",
       "      <td>49026</td>\n",
       "      <td>The Dark Knight Rises</td>\n",
       "      <td>[Following, the, death, of, District, Attorney...</td>\n",
       "      <td>[Action, Crime, Drama, Thriller]</td>\n",
       "      <td>[dc comics, crime fighter, terrorist, secret i...</td>\n",
       "      <td>[Christian Bale, Michael Caine, Gary Oldman]</td>\n",
       "      <td>[Christopher Nolan]</td>\n",
       "    </tr>\n",
       "    <tr>\n",
       "      <th>4</th>\n",
       "      <td>49529</td>\n",
       "      <td>John Carter</td>\n",
       "      <td>[John, Carter, is, a, war-weary,, former, mili...</td>\n",
       "      <td>[Action, Adventure, Science Fiction]</td>\n",
       "      <td>[based on novel, mars, medallion, space travel...</td>\n",
       "      <td>[Taylor Kitsch, Lynn Collins, Samantha Morton]</td>\n",
       "      <td>[Andrew Stanton]</td>\n",
       "    </tr>\n",
       "  </tbody>\n",
       "</table>\n",
       "</div>"
      ],
      "text/plain": [
       "   movie_id                                     title  \\\n",
       "0     19995                                    Avatar   \n",
       "1       285  Pirates of the Caribbean: At World's End   \n",
       "2    206647                                   Spectre   \n",
       "3     49026                     The Dark Knight Rises   \n",
       "4     49529                               John Carter   \n",
       "\n",
       "                                            overview  \\\n",
       "0  [In, the, 22nd, century,, a, paraplegic, Marin...   \n",
       "1  [Captain, Barbossa,, long, believed, to, be, d...   \n",
       "2  [A, cryptic, message, from, Bond’s, past, send...   \n",
       "3  [Following, the, death, of, District, Attorney...   \n",
       "4  [John, Carter, is, a, war-weary,, former, mili...   \n",
       "\n",
       "                                          genres  \\\n",
       "0  [Action, Adventure, Fantasy, Science Fiction]   \n",
       "1                   [Adventure, Fantasy, Action]   \n",
       "2                     [Action, Adventure, Crime]   \n",
       "3               [Action, Crime, Drama, Thriller]   \n",
       "4           [Action, Adventure, Science Fiction]   \n",
       "\n",
       "                                            keywords  \\\n",
       "0  [culture clash, future, space war, space colon...   \n",
       "1  [ocean, drug abuse, exotic island, east india ...   \n",
       "2  [spy, based on novel, secret agent, sequel, mi...   \n",
       "3  [dc comics, crime fighter, terrorist, secret i...   \n",
       "4  [based on novel, mars, medallion, space travel...   \n",
       "\n",
       "                                               cast                 crew  \n",
       "0  [Sam Worthington, Zoe Saldana, Sigourney Weaver]      [James Cameron]  \n",
       "1     [Johnny Depp, Orlando Bloom, Keira Knightley]     [Gore Verbinski]  \n",
       "2      [Daniel Craig, Christoph Waltz, Léa Seydoux]         [Sam Mendes]  \n",
       "3      [Christian Bale, Michael Caine, Gary Oldman]  [Christopher Nolan]  \n",
       "4    [Taylor Kitsch, Lynn Collins, Samantha Morton]     [Andrew Stanton]  "
      ]
     },
     "execution_count": 35,
     "metadata": {},
     "output_type": "execute_result"
    }
   ],
   "source": [
    "df_movies.head()"
   ]
  },
  {
   "cell_type": "code",
   "execution_count": 36,
   "id": "1b6bb7e6",
   "metadata": {
    "execution": {
     "iopub.execute_input": "2025-04-03T10:23:48.095090Z",
     "iopub.status.busy": "2025-04-03T10:23:48.094720Z",
     "iopub.status.idle": "2025-04-03T10:23:48.098447Z",
     "shell.execute_reply": "2025-04-03T10:23:48.097425Z"
    },
    "papermill": {
     "duration": 0.036174,
     "end_time": "2025-04-03T10:23:48.100045",
     "exception": false,
     "start_time": "2025-04-03T10:23:48.063871",
     "status": "completed"
    },
    "tags": []
   },
   "outputs": [],
   "source": [
    "#'Sam Worthington'hamara model sam aur worthington ko alag consider karega\n",
    "#'SamWorthington'"
   ]
  },
  {
   "cell_type": "code",
   "execution_count": 37,
   "id": "e23b420f",
   "metadata": {
    "execution": {
     "iopub.execute_input": "2025-04-03T10:23:48.159998Z",
     "iopub.status.busy": "2025-04-03T10:23:48.159603Z",
     "iopub.status.idle": "2025-04-03T10:23:48.168921Z",
     "shell.execute_reply": "2025-04-03T10:23:48.167839Z"
    },
    "papermill": {
     "duration": 0.041142,
     "end_time": "2025-04-03T10:23:48.170610",
     "exception": false,
     "start_time": "2025-04-03T10:23:48.129468",
     "status": "completed"
    },
    "tags": []
   },
   "outputs": [],
   "source": [
    "df_movies['genres']=df_movies['genres'].apply(lambda x:[i.replace(\" \",\"\") for i in x])"
   ]
  },
  {
   "cell_type": "code",
   "execution_count": 38,
   "id": "aa845fb9",
   "metadata": {
    "execution": {
     "iopub.execute_input": "2025-04-03T10:23:48.230410Z",
     "iopub.status.busy": "2025-04-03T10:23:48.230005Z",
     "iopub.status.idle": "2025-04-03T10:23:48.247365Z",
     "shell.execute_reply": "2025-04-03T10:23:48.246259Z"
    },
    "papermill": {
     "duration": 0.048957,
     "end_time": "2025-04-03T10:23:48.249102",
     "exception": false,
     "start_time": "2025-04-03T10:23:48.200145",
     "status": "completed"
    },
    "tags": []
   },
   "outputs": [],
   "source": [
    "df_movies['keywords']=df_movies['keywords'].apply(lambda x:[i.replace(\" \",\"\") for i in x])"
   ]
  },
  {
   "cell_type": "code",
   "execution_count": 39,
   "id": "6b1e83b5",
   "metadata": {
    "execution": {
     "iopub.execute_input": "2025-04-03T10:23:48.309142Z",
     "iopub.status.busy": "2025-04-03T10:23:48.308759Z",
     "iopub.status.idle": "2025-04-03T10:23:48.320766Z",
     "shell.execute_reply": "2025-04-03T10:23:48.319692Z"
    },
    "papermill": {
     "duration": 0.043527,
     "end_time": "2025-04-03T10:23:48.322293",
     "exception": false,
     "start_time": "2025-04-03T10:23:48.278766",
     "status": "completed"
    },
    "tags": []
   },
   "outputs": [],
   "source": [
    "df_movies['cast']=df_movies['cast'].apply(lambda x:[i.replace(\" \",\"\") for i in x])"
   ]
  },
  {
   "cell_type": "code",
   "execution_count": 40,
   "id": "ade25670",
   "metadata": {
    "execution": {
     "iopub.execute_input": "2025-04-03T10:23:48.382079Z",
     "iopub.status.busy": "2025-04-03T10:23:48.381725Z",
     "iopub.status.idle": "2025-04-03T10:23:48.482363Z",
     "shell.execute_reply": "2025-04-03T10:23:48.481297Z"
    },
    "papermill": {
     "duration": 0.132506,
     "end_time": "2025-04-03T10:23:48.484136",
     "exception": false,
     "start_time": "2025-04-03T10:23:48.351630",
     "status": "completed"
    },
    "tags": []
   },
   "outputs": [],
   "source": [
    "df_movies['crew']=df_movies['crew'].apply(lambda x:[i.replace(\" \",\"\") for i in x])"
   ]
  },
  {
   "cell_type": "code",
   "execution_count": 41,
   "id": "c8aa8756",
   "metadata": {
    "execution": {
     "iopub.execute_input": "2025-04-03T10:23:48.545039Z",
     "iopub.status.busy": "2025-04-03T10:23:48.544706Z",
     "iopub.status.idle": "2025-04-03T10:23:48.565276Z",
     "shell.execute_reply": "2025-04-03T10:23:48.564240Z"
    },
    "papermill": {
     "duration": 0.053235,
     "end_time": "2025-04-03T10:23:48.567074",
     "exception": false,
     "start_time": "2025-04-03T10:23:48.513839",
     "status": "completed"
    },
    "tags": []
   },
   "outputs": [
    {
     "data": {
      "text/html": [
       "<div>\n",
       "<style scoped>\n",
       "    .dataframe tbody tr th:only-of-type {\n",
       "        vertical-align: middle;\n",
       "    }\n",
       "\n",
       "    .dataframe tbody tr th {\n",
       "        vertical-align: top;\n",
       "    }\n",
       "\n",
       "    .dataframe thead th {\n",
       "        text-align: right;\n",
       "    }\n",
       "</style>\n",
       "<table border=\"1\" class=\"dataframe\">\n",
       "  <thead>\n",
       "    <tr style=\"text-align: right;\">\n",
       "      <th></th>\n",
       "      <th>movie_id</th>\n",
       "      <th>title</th>\n",
       "      <th>overview</th>\n",
       "      <th>genres</th>\n",
       "      <th>keywords</th>\n",
       "      <th>cast</th>\n",
       "      <th>crew</th>\n",
       "    </tr>\n",
       "  </thead>\n",
       "  <tbody>\n",
       "    <tr>\n",
       "      <th>0</th>\n",
       "      <td>19995</td>\n",
       "      <td>Avatar</td>\n",
       "      <td>[In, the, 22nd, century,, a, paraplegic, Marin...</td>\n",
       "      <td>[Action, Adventure, Fantasy, ScienceFiction]</td>\n",
       "      <td>[cultureclash, future, spacewar, spacecolony, ...</td>\n",
       "      <td>[SamWorthington, ZoeSaldana, SigourneyWeaver]</td>\n",
       "      <td>[JamesCameron]</td>\n",
       "    </tr>\n",
       "    <tr>\n",
       "      <th>1</th>\n",
       "      <td>285</td>\n",
       "      <td>Pirates of the Caribbean: At World's End</td>\n",
       "      <td>[Captain, Barbossa,, long, believed, to, be, d...</td>\n",
       "      <td>[Adventure, Fantasy, Action]</td>\n",
       "      <td>[ocean, drugabuse, exoticisland, eastindiatrad...</td>\n",
       "      <td>[JohnnyDepp, OrlandoBloom, KeiraKnightley]</td>\n",
       "      <td>[GoreVerbinski]</td>\n",
       "    </tr>\n",
       "    <tr>\n",
       "      <th>2</th>\n",
       "      <td>206647</td>\n",
       "      <td>Spectre</td>\n",
       "      <td>[A, cryptic, message, from, Bond’s, past, send...</td>\n",
       "      <td>[Action, Adventure, Crime]</td>\n",
       "      <td>[spy, basedonnovel, secretagent, sequel, mi6, ...</td>\n",
       "      <td>[DanielCraig, ChristophWaltz, LéaSeydoux]</td>\n",
       "      <td>[SamMendes]</td>\n",
       "    </tr>\n",
       "    <tr>\n",
       "      <th>3</th>\n",
       "      <td>49026</td>\n",
       "      <td>The Dark Knight Rises</td>\n",
       "      <td>[Following, the, death, of, District, Attorney...</td>\n",
       "      <td>[Action, Crime, Drama, Thriller]</td>\n",
       "      <td>[dccomics, crimefighter, terrorist, secretiden...</td>\n",
       "      <td>[ChristianBale, MichaelCaine, GaryOldman]</td>\n",
       "      <td>[ChristopherNolan]</td>\n",
       "    </tr>\n",
       "    <tr>\n",
       "      <th>4</th>\n",
       "      <td>49529</td>\n",
       "      <td>John Carter</td>\n",
       "      <td>[John, Carter, is, a, war-weary,, former, mili...</td>\n",
       "      <td>[Action, Adventure, ScienceFiction]</td>\n",
       "      <td>[basedonnovel, mars, medallion, spacetravel, p...</td>\n",
       "      <td>[TaylorKitsch, LynnCollins, SamanthaMorton]</td>\n",
       "      <td>[AndrewStanton]</td>\n",
       "    </tr>\n",
       "  </tbody>\n",
       "</table>\n",
       "</div>"
      ],
      "text/plain": [
       "   movie_id                                     title  \\\n",
       "0     19995                                    Avatar   \n",
       "1       285  Pirates of the Caribbean: At World's End   \n",
       "2    206647                                   Spectre   \n",
       "3     49026                     The Dark Knight Rises   \n",
       "4     49529                               John Carter   \n",
       "\n",
       "                                            overview  \\\n",
       "0  [In, the, 22nd, century,, a, paraplegic, Marin...   \n",
       "1  [Captain, Barbossa,, long, believed, to, be, d...   \n",
       "2  [A, cryptic, message, from, Bond’s, past, send...   \n",
       "3  [Following, the, death, of, District, Attorney...   \n",
       "4  [John, Carter, is, a, war-weary,, former, mili...   \n",
       "\n",
       "                                         genres  \\\n",
       "0  [Action, Adventure, Fantasy, ScienceFiction]   \n",
       "1                  [Adventure, Fantasy, Action]   \n",
       "2                    [Action, Adventure, Crime]   \n",
       "3              [Action, Crime, Drama, Thriller]   \n",
       "4           [Action, Adventure, ScienceFiction]   \n",
       "\n",
       "                                            keywords  \\\n",
       "0  [cultureclash, future, spacewar, spacecolony, ...   \n",
       "1  [ocean, drugabuse, exoticisland, eastindiatrad...   \n",
       "2  [spy, basedonnovel, secretagent, sequel, mi6, ...   \n",
       "3  [dccomics, crimefighter, terrorist, secretiden...   \n",
       "4  [basedonnovel, mars, medallion, spacetravel, p...   \n",
       "\n",
       "                                            cast                crew  \n",
       "0  [SamWorthington, ZoeSaldana, SigourneyWeaver]      [JamesCameron]  \n",
       "1     [JohnnyDepp, OrlandoBloom, KeiraKnightley]     [GoreVerbinski]  \n",
       "2      [DanielCraig, ChristophWaltz, LéaSeydoux]         [SamMendes]  \n",
       "3      [ChristianBale, MichaelCaine, GaryOldman]  [ChristopherNolan]  \n",
       "4    [TaylorKitsch, LynnCollins, SamanthaMorton]     [AndrewStanton]  "
      ]
     },
     "execution_count": 41,
     "metadata": {},
     "output_type": "execute_result"
    }
   ],
   "source": [
    "df_movies.head()"
   ]
  },
  {
   "cell_type": "code",
   "execution_count": 42,
   "id": "1c1621fa",
   "metadata": {
    "execution": {
     "iopub.execute_input": "2025-04-03T10:23:48.631582Z",
     "iopub.status.busy": "2025-04-03T10:23:48.631218Z",
     "iopub.status.idle": "2025-04-03T10:23:48.677969Z",
     "shell.execute_reply": "2025-04-03T10:23:48.676749Z"
    },
    "papermill": {
     "duration": 0.081647,
     "end_time": "2025-04-03T10:23:48.680071",
     "exception": false,
     "start_time": "2025-04-03T10:23:48.598424",
     "status": "completed"
    },
    "tags": []
   },
   "outputs": [],
   "source": [
    "df_movies['tags']=df_movies['overview']+df_movies['genres']+df_movies['cast']+df_movies['crew']"
   ]
  },
  {
   "cell_type": "code",
   "execution_count": 43,
   "id": "9d50fe5e",
   "metadata": {
    "execution": {
     "iopub.execute_input": "2025-04-03T10:23:48.741949Z",
     "iopub.status.busy": "2025-04-03T10:23:48.741556Z",
     "iopub.status.idle": "2025-04-03T10:23:48.747379Z",
     "shell.execute_reply": "2025-04-03T10:23:48.746254Z"
    },
    "papermill": {
     "duration": 0.038827,
     "end_time": "2025-04-03T10:23:48.749070",
     "exception": false,
     "start_time": "2025-04-03T10:23:48.710243",
     "status": "completed"
    },
    "tags": []
   },
   "outputs": [],
   "source": [
    "new_df=df_movies[['movie_id','title','tags']]"
   ]
  },
  {
   "cell_type": "code",
   "execution_count": 44,
   "id": "64615326",
   "metadata": {
    "execution": {
     "iopub.execute_input": "2025-04-03T10:23:48.809470Z",
     "iopub.status.busy": "2025-04-03T10:23:48.809052Z",
     "iopub.status.idle": "2025-04-03T10:23:48.820711Z",
     "shell.execute_reply": "2025-04-03T10:23:48.819683Z"
    },
    "papermill": {
     "duration": 0.043921,
     "end_time": "2025-04-03T10:23:48.822378",
     "exception": false,
     "start_time": "2025-04-03T10:23:48.778457",
     "status": "completed"
    },
    "tags": []
   },
   "outputs": [
    {
     "data": {
      "text/html": [
       "<div>\n",
       "<style scoped>\n",
       "    .dataframe tbody tr th:only-of-type {\n",
       "        vertical-align: middle;\n",
       "    }\n",
       "\n",
       "    .dataframe tbody tr th {\n",
       "        vertical-align: top;\n",
       "    }\n",
       "\n",
       "    .dataframe thead th {\n",
       "        text-align: right;\n",
       "    }\n",
       "</style>\n",
       "<table border=\"1\" class=\"dataframe\">\n",
       "  <thead>\n",
       "    <tr style=\"text-align: right;\">\n",
       "      <th></th>\n",
       "      <th>movie_id</th>\n",
       "      <th>title</th>\n",
       "      <th>tags</th>\n",
       "    </tr>\n",
       "  </thead>\n",
       "  <tbody>\n",
       "    <tr>\n",
       "      <th>0</th>\n",
       "      <td>19995</td>\n",
       "      <td>Avatar</td>\n",
       "      <td>[In, the, 22nd, century,, a, paraplegic, Marin...</td>\n",
       "    </tr>\n",
       "    <tr>\n",
       "      <th>1</th>\n",
       "      <td>285</td>\n",
       "      <td>Pirates of the Caribbean: At World's End</td>\n",
       "      <td>[Captain, Barbossa,, long, believed, to, be, d...</td>\n",
       "    </tr>\n",
       "    <tr>\n",
       "      <th>2</th>\n",
       "      <td>206647</td>\n",
       "      <td>Spectre</td>\n",
       "      <td>[A, cryptic, message, from, Bond’s, past, send...</td>\n",
       "    </tr>\n",
       "    <tr>\n",
       "      <th>3</th>\n",
       "      <td>49026</td>\n",
       "      <td>The Dark Knight Rises</td>\n",
       "      <td>[Following, the, death, of, District, Attorney...</td>\n",
       "    </tr>\n",
       "    <tr>\n",
       "      <th>4</th>\n",
       "      <td>49529</td>\n",
       "      <td>John Carter</td>\n",
       "      <td>[John, Carter, is, a, war-weary,, former, mili...</td>\n",
       "    </tr>\n",
       "  </tbody>\n",
       "</table>\n",
       "</div>"
      ],
      "text/plain": [
       "   movie_id                                     title  \\\n",
       "0     19995                                    Avatar   \n",
       "1       285  Pirates of the Caribbean: At World's End   \n",
       "2    206647                                   Spectre   \n",
       "3     49026                     The Dark Knight Rises   \n",
       "4     49529                               John Carter   \n",
       "\n",
       "                                                tags  \n",
       "0  [In, the, 22nd, century,, a, paraplegic, Marin...  \n",
       "1  [Captain, Barbossa,, long, believed, to, be, d...  \n",
       "2  [A, cryptic, message, from, Bond’s, past, send...  \n",
       "3  [Following, the, death, of, District, Attorney...  \n",
       "4  [John, Carter, is, a, war-weary,, former, mili...  "
      ]
     },
     "execution_count": 44,
     "metadata": {},
     "output_type": "execute_result"
    }
   ],
   "source": [
    "new_df.head()"
   ]
  },
  {
   "cell_type": "code",
   "execution_count": 45,
   "id": "c79d9427",
   "metadata": {
    "execution": {
     "iopub.execute_input": "2025-04-03T10:23:48.883121Z",
     "iopub.status.busy": "2025-04-03T10:23:48.882749Z",
     "iopub.status.idle": "2025-04-03T10:23:48.889233Z",
     "shell.execute_reply": "2025-04-03T10:23:48.888217Z"
    },
    "papermill": {
     "duration": 0.038689,
     "end_time": "2025-04-03T10:23:48.890904",
     "exception": false,
     "start_time": "2025-04-03T10:23:48.852215",
     "status": "completed"
    },
    "tags": []
   },
   "outputs": [
    {
     "data": {
      "text/plain": [
       "['In',\n",
       " 'the',\n",
       " '22nd',\n",
       " 'century,',\n",
       " 'a',\n",
       " 'paraplegic',\n",
       " 'Marine',\n",
       " 'is',\n",
       " 'dispatched',\n",
       " 'to',\n",
       " 'the',\n",
       " 'moon',\n",
       " 'Pandora',\n",
       " 'on',\n",
       " 'a',\n",
       " 'unique',\n",
       " 'mission,',\n",
       " 'but',\n",
       " 'becomes',\n",
       " 'torn',\n",
       " 'between',\n",
       " 'following',\n",
       " 'orders',\n",
       " 'and',\n",
       " 'protecting',\n",
       " 'an',\n",
       " 'alien',\n",
       " 'civilization.',\n",
       " 'Action',\n",
       " 'Adventure',\n",
       " 'Fantasy',\n",
       " 'ScienceFiction',\n",
       " 'SamWorthington',\n",
       " 'ZoeSaldana',\n",
       " 'SigourneyWeaver',\n",
       " 'JamesCameron']"
      ]
     },
     "execution_count": 45,
     "metadata": {},
     "output_type": "execute_result"
    }
   ],
   "source": [
    "new_df['tags'][0]"
   ]
  },
  {
   "cell_type": "code",
   "execution_count": 46,
   "id": "f39a4840",
   "metadata": {
    "execution": {
     "iopub.execute_input": "2025-04-03T10:23:48.953554Z",
     "iopub.status.busy": "2025-04-03T10:23:48.953167Z",
     "iopub.status.idle": "2025-04-03T10:23:48.969621Z",
     "shell.execute_reply": "2025-04-03T10:23:48.968183Z"
    },
    "papermill": {
     "duration": 0.050181,
     "end_time": "2025-04-03T10:23:48.971395",
     "exception": false,
     "start_time": "2025-04-03T10:23:48.921214",
     "status": "completed"
    },
    "tags": []
   },
   "outputs": [
    {
     "name": "stderr",
     "output_type": "stream",
     "text": [
      "<ipython-input-46-53a061086f2e>:1: SettingWithCopyWarning: \n",
      "A value is trying to be set on a copy of a slice from a DataFrame.\n",
      "Try using .loc[row_indexer,col_indexer] = value instead\n",
      "\n",
      "See the caveats in the documentation: https://pandas.pydata.org/pandas-docs/stable/user_guide/indexing.html#returning-a-view-versus-a-copy\n",
      "  new_df['tags']=new_df['tags'].apply(lambda x:\" \".join(x))\n"
     ]
    }
   ],
   "source": [
    "new_df['tags']=new_df['tags'].apply(lambda x:\" \".join(x))"
   ]
  },
  {
   "cell_type": "code",
   "execution_count": 47,
   "id": "0bb0606b",
   "metadata": {
    "execution": {
     "iopub.execute_input": "2025-04-03T10:23:49.032617Z",
     "iopub.status.busy": "2025-04-03T10:23:49.032186Z",
     "iopub.status.idle": "2025-04-03T10:23:49.038460Z",
     "shell.execute_reply": "2025-04-03T10:23:49.037370Z"
    },
    "papermill": {
     "duration": 0.038776,
     "end_time": "2025-04-03T10:23:49.040215",
     "exception": false,
     "start_time": "2025-04-03T10:23:49.001439",
     "status": "completed"
    },
    "tags": []
   },
   "outputs": [
    {
     "data": {
      "text/plain": [
       "'In the 22nd century, a paraplegic Marine is dispatched to the moon Pandora on a unique mission, but becomes torn between following orders and protecting an alien civilization. Action Adventure Fantasy ScienceFiction SamWorthington ZoeSaldana SigourneyWeaver JamesCameron'"
      ]
     },
     "execution_count": 47,
     "metadata": {},
     "output_type": "execute_result"
    }
   ],
   "source": [
    "new_df['tags'][0]"
   ]
  },
  {
   "cell_type": "code",
   "execution_count": 48,
   "id": "1e583960",
   "metadata": {
    "execution": {
     "iopub.execute_input": "2025-04-03T10:23:49.101927Z",
     "iopub.status.busy": "2025-04-03T10:23:49.101471Z",
     "iopub.status.idle": "2025-04-03T10:23:49.110863Z",
     "shell.execute_reply": "2025-04-03T10:23:49.109783Z"
    },
    "papermill": {
     "duration": 0.042074,
     "end_time": "2025-04-03T10:23:49.112530",
     "exception": false,
     "start_time": "2025-04-03T10:23:49.070456",
     "status": "completed"
    },
    "tags": []
   },
   "outputs": [
    {
     "data": {
      "text/html": [
       "<div>\n",
       "<style scoped>\n",
       "    .dataframe tbody tr th:only-of-type {\n",
       "        vertical-align: middle;\n",
       "    }\n",
       "\n",
       "    .dataframe tbody tr th {\n",
       "        vertical-align: top;\n",
       "    }\n",
       "\n",
       "    .dataframe thead th {\n",
       "        text-align: right;\n",
       "    }\n",
       "</style>\n",
       "<table border=\"1\" class=\"dataframe\">\n",
       "  <thead>\n",
       "    <tr style=\"text-align: right;\">\n",
       "      <th></th>\n",
       "      <th>movie_id</th>\n",
       "      <th>title</th>\n",
       "      <th>tags</th>\n",
       "    </tr>\n",
       "  </thead>\n",
       "  <tbody>\n",
       "    <tr>\n",
       "      <th>0</th>\n",
       "      <td>19995</td>\n",
       "      <td>Avatar</td>\n",
       "      <td>In the 22nd century, a paraplegic Marine is di...</td>\n",
       "    </tr>\n",
       "    <tr>\n",
       "      <th>1</th>\n",
       "      <td>285</td>\n",
       "      <td>Pirates of the Caribbean: At World's End</td>\n",
       "      <td>Captain Barbossa, long believed to be dead, ha...</td>\n",
       "    </tr>\n",
       "    <tr>\n",
       "      <th>2</th>\n",
       "      <td>206647</td>\n",
       "      <td>Spectre</td>\n",
       "      <td>A cryptic message from Bond’s past sends him o...</td>\n",
       "    </tr>\n",
       "    <tr>\n",
       "      <th>3</th>\n",
       "      <td>49026</td>\n",
       "      <td>The Dark Knight Rises</td>\n",
       "      <td>Following the death of District Attorney Harve...</td>\n",
       "    </tr>\n",
       "    <tr>\n",
       "      <th>4</th>\n",
       "      <td>49529</td>\n",
       "      <td>John Carter</td>\n",
       "      <td>John Carter is a war-weary, former military ca...</td>\n",
       "    </tr>\n",
       "  </tbody>\n",
       "</table>\n",
       "</div>"
      ],
      "text/plain": [
       "   movie_id                                     title  \\\n",
       "0     19995                                    Avatar   \n",
       "1       285  Pirates of the Caribbean: At World's End   \n",
       "2    206647                                   Spectre   \n",
       "3     49026                     The Dark Knight Rises   \n",
       "4     49529                               John Carter   \n",
       "\n",
       "                                                tags  \n",
       "0  In the 22nd century, a paraplegic Marine is di...  \n",
       "1  Captain Barbossa, long believed to be dead, ha...  \n",
       "2  A cryptic message from Bond’s past sends him o...  \n",
       "3  Following the death of District Attorney Harve...  \n",
       "4  John Carter is a war-weary, former military ca...  "
      ]
     },
     "execution_count": 48,
     "metadata": {},
     "output_type": "execute_result"
    }
   ],
   "source": [
    "new_df.head()"
   ]
  },
  {
   "cell_type": "code",
   "execution_count": 49,
   "id": "ffb97239",
   "metadata": {
    "execution": {
     "iopub.execute_input": "2025-04-03T10:23:49.175308Z",
     "iopub.status.busy": "2025-04-03T10:23:49.174955Z",
     "iopub.status.idle": "2025-04-03T10:23:49.188882Z",
     "shell.execute_reply": "2025-04-03T10:23:49.187879Z"
    },
    "papermill": {
     "duration": 0.046926,
     "end_time": "2025-04-03T10:23:49.190622",
     "exception": false,
     "start_time": "2025-04-03T10:23:49.143696",
     "status": "completed"
    },
    "tags": []
   },
   "outputs": [
    {
     "data": {
      "text/plain": [
       "0       in the 22nd century, a paraplegic marine is di...\n",
       "1       captain barbossa, long believed to be dead, ha...\n",
       "2       a cryptic message from bond’s past sends him o...\n",
       "3       following the death of district attorney harve...\n",
       "4       john carter is a war-weary, former military ca...\n",
       "                              ...                        \n",
       "4804    el mariachi just wants to play his guitar and ...\n",
       "4805    a newlywed couple's honeymoon is upended by th...\n",
       "4806    \"signed, sealed, delivered\" introduces a dedic...\n",
       "4807    when ambitious new york attorney sam is sent t...\n",
       "4808    ever since the second grade when he first saw ...\n",
       "Name: tags, Length: 4806, dtype: object"
      ]
     },
     "execution_count": 49,
     "metadata": {},
     "output_type": "execute_result"
    }
   ],
   "source": [
    "new_df['tags'].apply(lambda x:x.lower())"
   ]
  },
  {
   "cell_type": "code",
   "execution_count": 50,
   "id": "a8dac0d1",
   "metadata": {
    "execution": {
     "iopub.execute_input": "2025-04-03T10:23:49.253145Z",
     "iopub.status.busy": "2025-04-03T10:23:49.252786Z",
     "iopub.status.idle": "2025-04-03T10:23:49.265559Z",
     "shell.execute_reply": "2025-04-03T10:23:49.264311Z"
    },
    "papermill": {
     "duration": 0.046065,
     "end_time": "2025-04-03T10:23:49.267357",
     "exception": false,
     "start_time": "2025-04-03T10:23:49.221292",
     "status": "completed"
    },
    "tags": []
   },
   "outputs": [
    {
     "name": "stderr",
     "output_type": "stream",
     "text": [
      "<ipython-input-50-242d679aab18>:1: SettingWithCopyWarning: \n",
      "A value is trying to be set on a copy of a slice from a DataFrame.\n",
      "Try using .loc[row_indexer,col_indexer] = value instead\n",
      "\n",
      "See the caveats in the documentation: https://pandas.pydata.org/pandas-docs/stable/user_guide/indexing.html#returning-a-view-versus-a-copy\n",
      "  new_df['tags']=new_df['tags'].apply(lambda x:x.lower())\n"
     ]
    }
   ],
   "source": [
    "new_df['tags']=new_df['tags'].apply(lambda x:x.lower())"
   ]
  },
  {
   "cell_type": "code",
   "execution_count": 51,
   "id": "1a79581c",
   "metadata": {
    "execution": {
     "iopub.execute_input": "2025-04-03T10:23:49.330009Z",
     "iopub.status.busy": "2025-04-03T10:23:49.329668Z",
     "iopub.status.idle": "2025-04-03T10:23:49.338808Z",
     "shell.execute_reply": "2025-04-03T10:23:49.337824Z"
    },
    "papermill": {
     "duration": 0.041933,
     "end_time": "2025-04-03T10:23:49.340300",
     "exception": false,
     "start_time": "2025-04-03T10:23:49.298367",
     "status": "completed"
    },
    "tags": []
   },
   "outputs": [
    {
     "data": {
      "text/html": [
       "<div>\n",
       "<style scoped>\n",
       "    .dataframe tbody tr th:only-of-type {\n",
       "        vertical-align: middle;\n",
       "    }\n",
       "\n",
       "    .dataframe tbody tr th {\n",
       "        vertical-align: top;\n",
       "    }\n",
       "\n",
       "    .dataframe thead th {\n",
       "        text-align: right;\n",
       "    }\n",
       "</style>\n",
       "<table border=\"1\" class=\"dataframe\">\n",
       "  <thead>\n",
       "    <tr style=\"text-align: right;\">\n",
       "      <th></th>\n",
       "      <th>movie_id</th>\n",
       "      <th>title</th>\n",
       "      <th>tags</th>\n",
       "    </tr>\n",
       "  </thead>\n",
       "  <tbody>\n",
       "    <tr>\n",
       "      <th>0</th>\n",
       "      <td>19995</td>\n",
       "      <td>Avatar</td>\n",
       "      <td>in the 22nd century, a paraplegic marine is di...</td>\n",
       "    </tr>\n",
       "    <tr>\n",
       "      <th>1</th>\n",
       "      <td>285</td>\n",
       "      <td>Pirates of the Caribbean: At World's End</td>\n",
       "      <td>captain barbossa, long believed to be dead, ha...</td>\n",
       "    </tr>\n",
       "    <tr>\n",
       "      <th>2</th>\n",
       "      <td>206647</td>\n",
       "      <td>Spectre</td>\n",
       "      <td>a cryptic message from bond’s past sends him o...</td>\n",
       "    </tr>\n",
       "    <tr>\n",
       "      <th>3</th>\n",
       "      <td>49026</td>\n",
       "      <td>The Dark Knight Rises</td>\n",
       "      <td>following the death of district attorney harve...</td>\n",
       "    </tr>\n",
       "    <tr>\n",
       "      <th>4</th>\n",
       "      <td>49529</td>\n",
       "      <td>John Carter</td>\n",
       "      <td>john carter is a war-weary, former military ca...</td>\n",
       "    </tr>\n",
       "  </tbody>\n",
       "</table>\n",
       "</div>"
      ],
      "text/plain": [
       "   movie_id                                     title  \\\n",
       "0     19995                                    Avatar   \n",
       "1       285  Pirates of the Caribbean: At World's End   \n",
       "2    206647                                   Spectre   \n",
       "3     49026                     The Dark Knight Rises   \n",
       "4     49529                               John Carter   \n",
       "\n",
       "                                                tags  \n",
       "0  in the 22nd century, a paraplegic marine is di...  \n",
       "1  captain barbossa, long believed to be dead, ha...  \n",
       "2  a cryptic message from bond’s past sends him o...  \n",
       "3  following the death of district attorney harve...  \n",
       "4  john carter is a war-weary, former military ca...  "
      ]
     },
     "execution_count": 51,
     "metadata": {},
     "output_type": "execute_result"
    }
   ],
   "source": [
    "new_df.head()"
   ]
  },
  {
   "cell_type": "code",
   "execution_count": 52,
   "id": "d2fc379f",
   "metadata": {
    "execution": {
     "iopub.execute_input": "2025-04-03T10:23:49.403659Z",
     "iopub.status.busy": "2025-04-03T10:23:49.403286Z",
     "iopub.status.idle": "2025-04-03T10:23:49.408829Z",
     "shell.execute_reply": "2025-04-03T10:23:49.408012Z"
    },
    "papermill": {
     "duration": 0.038792,
     "end_time": "2025-04-03T10:23:49.410267",
     "exception": false,
     "start_time": "2025-04-03T10:23:49.371475",
     "status": "completed"
    },
    "tags": []
   },
   "outputs": [
    {
     "data": {
      "text/plain": [
       "'in the 22nd century, a paraplegic marine is dispatched to the moon pandora on a unique mission, but becomes torn between following orders and protecting an alien civilization. action adventure fantasy sciencefiction samworthington zoesaldana sigourneyweaver jamescameron'"
      ]
     },
     "execution_count": 52,
     "metadata": {},
     "output_type": "execute_result"
    }
   ],
   "source": [
    "new_df['tags'][0]"
   ]
  },
  {
   "cell_type": "code",
   "execution_count": 53,
   "id": "43c750ec",
   "metadata": {
    "execution": {
     "iopub.execute_input": "2025-04-03T10:23:49.472694Z",
     "iopub.status.busy": "2025-04-03T10:23:49.472305Z",
     "iopub.status.idle": "2025-04-03T10:23:49.477602Z",
     "shell.execute_reply": "2025-04-03T10:23:49.476792Z"
    },
    "papermill": {
     "duration": 0.038062,
     "end_time": "2025-04-03T10:23:49.479090",
     "exception": false,
     "start_time": "2025-04-03T10:23:49.441028",
     "status": "completed"
    },
    "tags": []
   },
   "outputs": [
    {
     "data": {
      "text/plain": [
       "'captain barbossa, long believed to be dead, has come back to life and is headed to the edge of the earth with will turner and elizabeth swann. but nothing is quite as it seems. adventure fantasy action johnnydepp orlandobloom keiraknightley goreverbinski'"
      ]
     },
     "execution_count": 53,
     "metadata": {},
     "output_type": "execute_result"
    }
   ],
   "source": [
    "new_df['tags'][1]"
   ]
  },
  {
   "cell_type": "markdown",
   "id": "6ba577d2",
   "metadata": {
    "papermill": {
     "duration": 0.029972,
     "end_time": "2025-04-03T10:23:49.539650",
     "exception": false,
     "start_time": "2025-04-03T10:23:49.509678",
     "status": "completed"
    },
    "tags": []
   },
   "source": [
    "how are we going to to get the similarity between both tags"
   ]
  },
  {
   "cell_type": "markdown",
   "id": "1274616f",
   "metadata": {
    "papermill": {
     "duration": 0.031163,
     "end_time": "2025-04-03T10:23:49.601178",
     "exception": false,
     "start_time": "2025-04-03T10:23:49.570015",
     "status": "completed"
    },
    "tags": []
   },
   "source": [
    "we can't just comapare the words as it is a bad method so we use vectorization"
   ]
  },
  {
   "cell_type": "markdown",
   "id": "1ccbc43b",
   "metadata": {
    "papermill": {
     "duration": 0.030752,
     "end_time": "2025-04-03T10:23:49.662602",
     "exception": false,
     "start_time": "2025-04-03T10:23:49.631850",
     "status": "completed"
    },
    "tags": []
   },
   "source": [
    "movieid|title|tags\n",
    "we need to convert these tags into vectors... so now every movie will become a vector\n"
   ]
  },
  {
   "cell_type": "markdown",
   "id": "fddef11e",
   "metadata": {
    "papermill": {
     "duration": 0.030287,
     "end_time": "2025-04-03T10:23:49.723542",
     "exception": false,
     "start_time": "2025-04-03T10:23:49.693255",
     "status": "completed"
    },
    "tags": []
   },
   "source": [
    "so now if we select one point in graph then it will recommend the movies in  nearest area"
   ]
  },
  {
   "cell_type": "markdown",
   "id": "cd0fc9aa",
   "metadata": {
    "papermill": {
     "duration": 0.030284,
     "end_time": "2025-04-03T10:23:49.784442",
     "exception": false,
     "start_time": "2025-04-03T10:23:49.754158",
     "status": "completed"
    },
    "tags": []
   },
   "source": [
    "this proces is called text vectorization"
   ]
  },
  {
   "cell_type": "markdown",
   "id": "60c6f38f",
   "metadata": {
    "papermill": {
     "duration": 0.03065,
     "end_time": "2025-04-03T10:23:49.845907",
     "exception": false,
     "start_time": "2025-04-03T10:23:49.815257",
     "status": "completed"
    },
    "tags": []
   },
   "source": [
    "there  are many such methods for text vectorization but we are using bag of words others are tfidf and word to wec"
   ]
  },
  {
   "cell_type": "markdown",
   "id": "84ca8c03",
   "metadata": {
    "papermill": {
     "duration": 0.030268,
     "end_time": "2025-04-03T10:23:49.907245",
     "exception": false,
     "start_time": "2025-04-03T10:23:49.876977",
     "status": "completed"
    },
    "tags": []
   },
   "source": [
    "my dimensional space is 5000,5000\n",
    "action\n",
    "    w1|  w1|w3|...............w50000 large text\n",
    "m1 5    3    0 ................2=>this is my vector\n",
    "m2 2    0    1\n",
    "m3  1   1    1\n",
    "so if you have only two words tghen dim(5000,2)"
   ]
  },
  {
   "attachments": {
    "70a099c9-d5a8-42ae-9644-c5564bcaa0b2.png": {
     "image/png": "[encoded data removed]"
    }
   },
   "cell_type": "markdown",
   "id": "88842c32",
   "metadata": {
    "papermill": {
     "duration": 0.030274,
     "end_time": "2025-04-03T10:23:49.968553",
     "exception": false,
     "start_time": "2025-04-03T10:23:49.938279",
     "status": "completed"
    },
    "tags": []
   },
   "source": [
    "1.combine all the tags 2. jo sabse jyada use hone wale words vo chahiye\n"
   ]
  },
  {
   "cell_type": "markdown",
   "id": "7df5f2a6",
   "metadata": {
    "papermill": {
     "duration": 0.03302,
     "end_time": "2025-04-03T10:23:50.032032",
     "exception": false,
     "start_time": "2025-04-03T10:23:49.999012",
     "status": "completed"
    },
    "tags": []
   },
   "source": [
    "hamne tags banaye kyuki kam words se shuru karna ach hai for calculation eg 2000 5000 10000 wods"
   ]
  },
  {
   "cell_type": "markdown",
   "id": "ac5119a9",
   "metadata": {
    "papermill": {
     "duration": 0.031049,
     "end_time": "2025-04-03T10:23:50.095102",
     "exception": false,
     "start_time": "2025-04-03T10:23:50.064053",
     "status": "completed"
    },
    "tags": []
   },
   "source": [
    "in vectorization we do not use stop words are 'are and of '"
   ]
  },
  {
   "cell_type": "code",
   "execution_count": 54,
   "id": "62519425",
   "metadata": {
    "execution": {
     "iopub.execute_input": "2025-04-03T10:23:50.160230Z",
     "iopub.status.busy": "2025-04-03T10:23:50.159896Z",
     "iopub.status.idle": "2025-04-03T10:23:51.397394Z",
     "shell.execute_reply": "2025-04-03T10:23:51.396251Z"
    },
    "papermill": {
     "duration": 1.272104,
     "end_time": "2025-04-03T10:23:51.399264",
     "exception": false,
     "start_time": "2025-04-03T10:23:50.127160",
     "status": "completed"
    },
    "tags": []
   },
   "outputs": [],
   "source": [
    "from sklearn.feature_extraction.text import CountVectorizer\n",
    "cv=CountVectorizer(max_features=5000,stop_words='english')\n",
    "# english words ko hatado\n"
   ]
  },
  {
   "cell_type": "code",
   "execution_count": 55,
   "id": "0b82348d",
   "metadata": {
    "execution": {
     "iopub.execute_input": "2025-04-03T10:23:51.462865Z",
     "iopub.status.busy": "2025-04-03T10:23:51.462213Z",
     "iopub.status.idle": "2025-04-03T10:23:51.968172Z",
     "shell.execute_reply": "2025-04-03T10:23:51.966926Z"
    },
    "papermill": {
     "duration": 0.539775,
     "end_time": "2025-04-03T10:23:51.970161",
     "exception": false,
     "start_time": "2025-04-03T10:23:51.430386",
     "status": "completed"
    },
    "tags": []
   },
   "outputs": [
    {
     "data": {
      "text/plain": [
       "array([[0, 0, 0, ..., 0, 0, 0],\n",
       "       [0, 0, 0, ..., 0, 0, 0],\n",
       "       [0, 0, 0, ..., 0, 0, 0],\n",
       "       ...,\n",
       "       [0, 0, 0, ..., 0, 0, 0],\n",
       "       [0, 0, 0, ..., 0, 0, 0],\n",
       "       [0, 0, 0, ..., 0, 0, 0]])"
      ]
     },
     "execution_count": 55,
     "metadata": {},
     "output_type": "execute_result"
    }
   ],
   "source": [
    "cv.fit_transform(new_df['tags']).toarray()\n",
    "#isme kafi sari values zero hogi to bydefault countvector\n",
    "#jo apko obect return karta hai scipi parse matrix \n",
    "#ko convert karege array mai\n"
   ]
  },
  {
   "cell_type": "code",
   "execution_count": 56,
   "id": "f9fcd5fa",
   "metadata": {
    "execution": {
     "iopub.execute_input": "2025-04-03T10:23:52.035722Z",
     "iopub.status.busy": "2025-04-03T10:23:52.035292Z",
     "iopub.status.idle": "2025-04-03T10:23:52.502475Z",
     "shell.execute_reply": "2025-04-03T10:23:52.501382Z"
    },
    "papermill": {
     "duration": 0.502524,
     "end_time": "2025-04-03T10:23:52.504212",
     "exception": false,
     "start_time": "2025-04-03T10:23:52.001688",
     "status": "completed"
    },
    "tags": []
   },
   "outputs": [
    {
     "data": {
      "text/plain": [
       "(4806, 5000)"
      ]
     },
     "execution_count": 56,
     "metadata": {},
     "output_type": "execute_result"
    }
   ],
   "source": [
    "cv.fit_transform(new_df['tags']).toarray().shape\n",
    "# 4806 movies 5000 dim"
   ]
  },
  {
   "cell_type": "code",
   "execution_count": 57,
   "id": "15532ffe",
   "metadata": {
    "execution": {
     "iopub.execute_input": "2025-04-03T10:23:52.567703Z",
     "iopub.status.busy": "2025-04-03T10:23:52.567283Z",
     "iopub.status.idle": "2025-04-03T10:23:52.577530Z",
     "shell.execute_reply": "2025-04-03T10:23:52.576276Z"
    },
    "papermill": {
     "duration": 0.044054,
     "end_time": "2025-04-03T10:23:52.579407",
     "exception": false,
     "start_time": "2025-04-03T10:23:52.535353",
     "status": "completed"
    },
    "tags": []
   },
   "outputs": [
    {
     "data": {
      "text/plain": [
       "array(['000', '007', '10', ..., 'zone', 'zoo', 'zooeydeschanel'],\n",
       "      dtype=object)"
      ]
     },
     "execution_count": 57,
     "metadata": {},
     "output_type": "execute_result"
    }
   ],
   "source": [
    "cv.get_feature_names_out()"
   ]
  },
  {
   "cell_type": "code",
   "execution_count": 58,
   "id": "4b4be573",
   "metadata": {
    "execution": {
     "iopub.execute_input": "2025-04-03T10:23:52.645027Z",
     "iopub.status.busy": "2025-04-03T10:23:52.644609Z",
     "iopub.status.idle": "2025-04-03T10:23:53.082870Z",
     "shell.execute_reply": "2025-04-03T10:23:53.081628Z"
    },
    "papermill": {
     "duration": 0.472654,
     "end_time": "2025-04-03T10:23:53.084823",
     "exception": false,
     "start_time": "2025-04-03T10:23:52.612169",
     "status": "completed"
    },
    "tags": []
   },
   "outputs": [],
   "source": [
    "vectors=cv.fit_transform(new_df['tags']).toarray()"
   ]
  },
  {
   "cell_type": "code",
   "execution_count": 59,
   "id": "a09616a4",
   "metadata": {
    "execution": {
     "iopub.execute_input": "2025-04-03T10:23:53.149676Z",
     "iopub.status.busy": "2025-04-03T10:23:53.149203Z",
     "iopub.status.idle": "2025-04-03T10:23:53.155525Z",
     "shell.execute_reply": "2025-04-03T10:23:53.154451Z"
    },
    "papermill": {
     "duration": 0.040485,
     "end_time": "2025-04-03T10:23:53.157178",
     "exception": false,
     "start_time": "2025-04-03T10:23:53.116693",
     "status": "completed"
    },
    "tags": []
   },
   "outputs": [
    {
     "data": {
      "text/plain": [
       "array([[0, 0, 0, ..., 0, 0, 0],\n",
       "       [0, 0, 0, ..., 0, 0, 0],\n",
       "       [0, 0, 0, ..., 0, 0, 0],\n",
       "       ...,\n",
       "       [0, 0, 0, ..., 0, 0, 0],\n",
       "       [0, 0, 0, ..., 0, 0, 0],\n",
       "       [0, 0, 0, ..., 0, 0, 0]])"
      ]
     },
     "execution_count": 59,
     "metadata": {},
     "output_type": "execute_result"
    }
   ],
   "source": [
    "vectors"
   ]
  },
  {
   "cell_type": "code",
   "execution_count": 60,
   "id": "10fa6d03",
   "metadata": {
    "execution": {
     "iopub.execute_input": "2025-04-03T10:23:53.221670Z",
     "iopub.status.busy": "2025-04-03T10:23:53.221282Z",
     "iopub.status.idle": "2025-04-03T10:23:53.227806Z",
     "shell.execute_reply": "2025-04-03T10:23:53.226692Z"
    },
    "papermill": {
     "duration": 0.040631,
     "end_time": "2025-04-03T10:23:53.229496",
     "exception": false,
     "start_time": "2025-04-03T10:23:53.188865",
     "status": "completed"
    },
    "tags": []
   },
   "outputs": [
    {
     "data": {
      "text/plain": [
       "array([0, 0, 0, ..., 0, 0, 0])"
      ]
     },
     "execution_count": 60,
     "metadata": {},
     "output_type": "execute_result"
    }
   ],
   "source": [
    "vectors[0]"
   ]
  },
  {
   "cell_type": "code",
   "execution_count": 61,
   "id": "d32bf216",
   "metadata": {
    "execution": {
     "iopub.execute_input": "2025-04-03T10:23:53.294594Z",
     "iopub.status.busy": "2025-04-03T10:23:53.294189Z",
     "iopub.status.idle": "2025-04-03T10:23:53.306019Z",
     "shell.execute_reply": "2025-04-03T10:23:53.304958Z"
    },
    "papermill": {
     "duration": 0.04584,
     "end_time": "2025-04-03T10:23:53.307829",
     "exception": false,
     "start_time": "2025-04-03T10:23:53.261989",
     "status": "completed"
    },
    "tags": []
   },
   "outputs": [
    {
     "data": {
      "text/plain": [
       "array(['000', '007', '10', ..., 'zone', 'zoo', 'zooeydeschanel'],\n",
       "      dtype=object)"
      ]
     },
     "execution_count": 61,
     "metadata": {},
     "output_type": "execute_result"
    }
   ],
   "source": [
    "cv.get_feature_names_out()"
   ]
  },
  {
   "cell_type": "code",
   "execution_count": 62,
   "id": "74fa8545",
   "metadata": {
    "execution": {
     "iopub.execute_input": "2025-04-03T10:23:53.373261Z",
     "iopub.status.busy": "2025-04-03T10:23:53.372936Z",
     "iopub.status.idle": "2025-04-03T10:23:53.382981Z",
     "shell.execute_reply": "2025-04-03T10:23:53.381931Z"
    },
    "papermill": {
     "duration": 0.044121,
     "end_time": "2025-04-03T10:23:53.384836",
     "exception": false,
     "start_time": "2025-04-03T10:23:53.340715",
     "status": "completed"
    },
    "tags": []
   },
   "outputs": [
    {
     "data": {
      "text/plain": [
       "5000"
      ]
     },
     "execution_count": 62,
     "metadata": {},
     "output_type": "execute_result"
    }
   ],
   "source": [
    "len(cv.get_feature_names_out())"
   ]
  },
  {
   "cell_type": "markdown",
   "id": "68b61e6b",
   "metadata": {
    "papermill": {
     "duration": 0.031177,
     "end_time": "2025-04-03T10:23:53.447482",
     "exception": false,
     "start_time": "2025-04-03T10:23:53.416305",
     "status": "completed"
    },
    "tags": []
   },
   "source": [
    "corpus are tags ko jodke bada tag"
   ]
  },
  {
   "cell_type": "markdown",
   "id": "d2003919",
   "metadata": {
    "papermill": {
     "duration": 0.030914,
     "end_time": "2025-04-03T10:23:53.509757",
     "exception": false,
     "start_time": "2025-04-03T10:23:53.478843",
     "status": "completed"
    },
    "tags": []
   },
   "source": [
    "if you get the same words then we use stemming"
   ]
  },
  {
   "cell_type": "code",
   "execution_count": 63,
   "id": "9e97ddff",
   "metadata": {
    "execution": {
     "iopub.execute_input": "2025-04-03T10:23:53.573594Z",
     "iopub.status.busy": "2025-04-03T10:23:53.573195Z",
     "iopub.status.idle": "2025-04-03T10:23:54.466118Z",
     "shell.execute_reply": "2025-04-03T10:23:54.465039Z"
    },
    "papermill": {
     "duration": 0.927202,
     "end_time": "2025-04-03T10:23:54.468205",
     "exception": false,
     "start_time": "2025-04-03T10:23:53.541003",
     "status": "completed"
    },
    "tags": []
   },
   "outputs": [],
   "source": [
    "import nltk"
   ]
  },
  {
   "cell_type": "code",
   "execution_count": 64,
   "id": "1342398a",
   "metadata": {
    "execution": {
     "iopub.execute_input": "2025-04-03T10:23:54.534806Z",
     "iopub.status.busy": "2025-04-03T10:23:54.534252Z",
     "iopub.status.idle": "2025-04-03T10:23:54.538990Z",
     "shell.execute_reply": "2025-04-03T10:23:54.537846Z"
    },
    "papermill": {
     "duration": 0.0402,
     "end_time": "2025-04-03T10:23:54.540846",
     "exception": false,
     "start_time": "2025-04-03T10:23:54.500646",
     "status": "completed"
    },
    "tags": []
   },
   "outputs": [],
   "source": [
    "from nltk.stem.porter import PorterStemmer\n",
    "ps=PorterStemmer()"
   ]
  },
  {
   "cell_type": "code",
   "execution_count": 65,
   "id": "3d80bdfa",
   "metadata": {
    "execution": {
     "iopub.execute_input": "2025-04-03T10:23:54.605982Z",
     "iopub.status.busy": "2025-04-03T10:23:54.605621Z",
     "iopub.status.idle": "2025-04-03T10:23:54.610266Z",
     "shell.execute_reply": "2025-04-03T10:23:54.609355Z"
    },
    "papermill": {
     "duration": 0.039398,
     "end_time": "2025-04-03T10:23:54.611894",
     "exception": false,
     "start_time": "2025-04-03T10:23:54.572496",
     "status": "completed"
    },
    "tags": []
   },
   "outputs": [],
   "source": [
    "def stem(text):\n",
    "    y=[]\n",
    "    for i in text.split():\n",
    "        y.append(ps.stem(i))\n",
    "\n",
    "    return \" \".join(y)"
   ]
  },
  {
   "cell_type": "code",
   "execution_count": 66,
   "id": "fcafca44",
   "metadata": {
    "execution": {
     "iopub.execute_input": "2025-04-03T10:23:54.676814Z",
     "iopub.status.busy": "2025-04-03T10:23:54.676461Z",
     "iopub.status.idle": "2025-04-03T10:23:54.682276Z",
     "shell.execute_reply": "2025-04-03T10:23:54.681404Z"
    },
    "papermill": {
     "duration": 0.040236,
     "end_time": "2025-04-03T10:23:54.684087",
     "exception": false,
     "start_time": "2025-04-03T10:23:54.643851",
     "status": "completed"
    },
    "tags": []
   },
   "outputs": [
    {
     "data": {
      "text/plain": [
       "'love'"
      ]
     },
     "execution_count": 66,
     "metadata": {},
     "output_type": "execute_result"
    }
   ],
   "source": [
    "ps.stem('loved')"
   ]
  },
  {
   "cell_type": "code",
   "execution_count": 67,
   "id": "29b0a55c",
   "metadata": {
    "execution": {
     "iopub.execute_input": "2025-04-03T10:23:54.748673Z",
     "iopub.status.busy": "2025-04-03T10:23:54.748270Z",
     "iopub.status.idle": "2025-04-03T10:23:54.754806Z",
     "shell.execute_reply": "2025-04-03T10:23:54.753789Z"
    },
    "papermill": {
     "duration": 0.040565,
     "end_time": "2025-04-03T10:23:54.756607",
     "exception": false,
     "start_time": "2025-04-03T10:23:54.716042",
     "status": "completed"
    },
    "tags": []
   },
   "outputs": [
    {
     "data": {
      "text/plain": [
       "'in the 22nd century, a parapleg marin is dispatch to the moon pandora on a uniqu mission, but becom torn between follow order and protect an alien civilization. action adventur fantasi sciencefict samworthington zoesaldana sigourneyweav jamescameron'"
      ]
     },
     "execution_count": 67,
     "metadata": {},
     "output_type": "execute_result"
    }
   ],
   "source": [
    "stem('in the 22nd century, a paraplegic marine is dispatched to the moon pandora on a unique mission, but becomes torn between following orders and protecting an alien civilization. action adventure fantasy sciencefiction samworthington zoesaldana sigourneyweaver jamescameron')"
   ]
  },
  {
   "cell_type": "code",
   "execution_count": 68,
   "id": "4439cf76",
   "metadata": {
    "execution": {
     "iopub.execute_input": "2025-04-03T10:23:54.822521Z",
     "iopub.status.busy": "2025-04-03T10:23:54.822140Z",
     "iopub.status.idle": "2025-04-03T10:23:59.529841Z",
     "shell.execute_reply": "2025-04-03T10:23:59.528705Z"
    },
    "papermill": {
     "duration": 4.743308,
     "end_time": "2025-04-03T10:23:59.531840",
     "exception": false,
     "start_time": "2025-04-03T10:23:54.788532",
     "status": "completed"
    },
    "tags": []
   },
   "outputs": [
    {
     "data": {
      "text/plain": [
       "0       in the 22nd century, a parapleg marin is dispa...\n",
       "1       captain barbossa, long believ to be dead, ha c...\n",
       "2       a cryptic messag from bond’ past send him on a...\n",
       "3       follow the death of district attorney harvey d...\n",
       "4       john carter is a war-weary, former militari ca...\n",
       "                              ...                        \n",
       "4804    el mariachi just want to play hi guitar and ca...\n",
       "4805    a newlyw couple' honeymoon is upend by the arr...\n",
       "4806    \"signed, sealed, delivered\" introduc a dedic q...\n",
       "4807    when ambiti new york attorney sam is sent to s...\n",
       "4808    ever sinc the second grade when he first saw h...\n",
       "Name: tags, Length: 4806, dtype: object"
      ]
     },
     "execution_count": 68,
     "metadata": {},
     "output_type": "execute_result"
    }
   ],
   "source": [
    "new_df['tags'].apply(stem)"
   ]
  },
  {
   "cell_type": "code",
   "execution_count": 69,
   "id": "77499bc5",
   "metadata": {
    "execution": {
     "iopub.execute_input": "2025-04-03T10:23:59.598536Z",
     "iopub.status.busy": "2025-04-03T10:23:59.598153Z",
     "iopub.status.idle": "2025-04-03T10:24:04.373913Z",
     "shell.execute_reply": "2025-04-03T10:24:04.372778Z"
    },
    "papermill": {
     "duration": 4.81149,
     "end_time": "2025-04-03T10:24:04.375840",
     "exception": false,
     "start_time": "2025-04-03T10:23:59.564350",
     "status": "completed"
    },
    "tags": []
   },
   "outputs": [
    {
     "name": "stderr",
     "output_type": "stream",
     "text": [
      "<ipython-input-69-402dd7cb6b10>:1: SettingWithCopyWarning: \n",
      "A value is trying to be set on a copy of a slice from a DataFrame.\n",
      "Try using .loc[row_indexer,col_indexer] = value instead\n",
      "\n",
      "See the caveats in the documentation: https://pandas.pydata.org/pandas-docs/stable/user_guide/indexing.html#returning-a-view-versus-a-copy\n",
      "  new_df['tags']=new_df['tags'].apply(stem)\n"
     ]
    }
   ],
   "source": [
    "new_df['tags']=new_df['tags'].apply(stem)"
   ]
  },
  {
   "cell_type": "code",
   "execution_count": 70,
   "id": "16a24227",
   "metadata": {
    "execution": {
     "iopub.execute_input": "2025-04-03T10:24:04.442225Z",
     "iopub.status.busy": "2025-04-03T10:24:04.441844Z",
     "iopub.status.idle": "2025-04-03T10:24:04.446600Z",
     "shell.execute_reply": "2025-04-03T10:24:04.445425Z"
    },
    "papermill": {
     "duration": 0.040175,
     "end_time": "2025-04-03T10:24:04.448498",
     "exception": false,
     "start_time": "2025-04-03T10:24:04.408323",
     "status": "completed"
    },
    "tags": []
   },
   "outputs": [],
   "source": [
    "from sklearn.feature_extraction.text import CountVectorizer\n",
    "countvec=CountVectorizer(max_features=5000,stop_words='english')"
   ]
  },
  {
   "cell_type": "code",
   "execution_count": 71,
   "id": "23d58a8b",
   "metadata": {
    "execution": {
     "iopub.execute_input": "2025-04-03T10:24:04.514418Z",
     "iopub.status.busy": "2025-04-03T10:24:04.513996Z",
     "iopub.status.idle": "2025-04-03T10:24:04.991382Z",
     "shell.execute_reply": "2025-04-03T10:24:04.990235Z"
    },
    "papermill": {
     "duration": 0.512525,
     "end_time": "2025-04-03T10:24:04.993410",
     "exception": false,
     "start_time": "2025-04-03T10:24:04.480885",
     "status": "completed"
    },
    "tags": []
   },
   "outputs": [],
   "source": [
    "vec=countvec.fit_transform(new_df['tags']).toarray()"
   ]
  },
  {
   "cell_type": "code",
   "execution_count": 72,
   "id": "b81346e7",
   "metadata": {
    "execution": {
     "iopub.execute_input": "2025-04-03T10:24:05.064390Z",
     "iopub.status.busy": "2025-04-03T10:24:05.064024Z",
     "iopub.status.idle": "2025-04-03T10:24:05.072452Z",
     "shell.execute_reply": "2025-04-03T10:24:05.071351Z"
    },
    "papermill": {
     "duration": 0.044621,
     "end_time": "2025-04-03T10:24:05.074108",
     "exception": false,
     "start_time": "2025-04-03T10:24:05.029487",
     "status": "completed"
    },
    "tags": []
   },
   "outputs": [],
   "source": [
    "v=countvec.get_feature_names_out()"
   ]
  },
  {
   "cell_type": "markdown",
   "id": "4f24dc34",
   "metadata": {
    "papermill": {
     "duration": 0.031564,
     "end_time": "2025-04-03T10:24:05.138944",
     "exception": false,
     "start_time": "2025-04-03T10:24:05.107380",
     "status": "completed"
    },
    "tags": []
   },
   "source": [
    "we have 4806 vectors and to get the movies that are closer to ones taste of movie we calculate cosine distance(theta)and not the eucledian distance as in large dimensional space they seem to be irrelevant"
   ]
  },
  {
   "cell_type": "markdown",
   "id": "01fb819b",
   "metadata": {
    "papermill": {
     "duration": 0.032361,
     "end_time": "2025-04-03T10:24:05.203152",
     "exception": false,
     "start_time": "2025-04-03T10:24:05.170791",
     "status": "completed"
    },
    "tags": []
   },
   "source": [
    "distance is inversely proportional to similarity"
   ]
  },
  {
   "cell_type": "code",
   "execution_count": 73,
   "id": "3c354c18",
   "metadata": {
    "execution": {
     "iopub.execute_input": "2025-04-03T10:24:05.268709Z",
     "iopub.status.busy": "2025-04-03T10:24:05.268308Z",
     "iopub.status.idle": "2025-04-03T10:24:05.272528Z",
     "shell.execute_reply": "2025-04-03T10:24:05.271469Z"
    },
    "papermill": {
     "duration": 0.039115,
     "end_time": "2025-04-03T10:24:05.274266",
     "exception": false,
     "start_time": "2025-04-03T10:24:05.235151",
     "status": "completed"
    },
    "tags": []
   },
   "outputs": [],
   "source": [
    "from sklearn.metrics.pairwise import cosine_similarity"
   ]
  },
  {
   "cell_type": "markdown",
   "id": "1ef8c87a",
   "metadata": {
    "papermill": {
     "duration": 0.031609,
     "end_time": "2025-04-03T10:24:05.338751",
     "exception": false,
     "start_time": "2025-04-03T10:24:05.307142",
     "status": "completed"
    },
    "tags": []
   },
   "source": [
    "to calculate the distance of one vector with all other vector"
   ]
  },
  {
   "cell_type": "code",
   "execution_count": 74,
   "id": "e113e825",
   "metadata": {
    "execution": {
     "iopub.execute_input": "2025-04-03T10:24:05.403697Z",
     "iopub.status.busy": "2025-04-03T10:24:05.403232Z",
     "iopub.status.idle": "2025-04-03T10:24:07.364583Z",
     "shell.execute_reply": "2025-04-03T10:24:07.363514Z"
    },
    "papermill": {
     "duration": 1.995949,
     "end_time": "2025-04-03T10:24:07.366431",
     "exception": false,
     "start_time": "2025-04-03T10:24:05.370482",
     "status": "completed"
    },
    "tags": []
   },
   "outputs": [
    {
     "data": {
      "text/plain": [
       "(4806, 4806)"
      ]
     },
     "execution_count": 74,
     "metadata": {},
     "output_type": "execute_result"
    }
   ],
   "source": [
    "cosine_similarity(vectors).shape"
   ]
  },
  {
   "cell_type": "code",
   "execution_count": 75,
   "id": "4dc032ac",
   "metadata": {
    "execution": {
     "iopub.execute_input": "2025-04-03T10:24:07.433589Z",
     "iopub.status.busy": "2025-04-03T10:24:07.433217Z",
     "iopub.status.idle": "2025-04-03T10:24:09.281147Z",
     "shell.execute_reply": "2025-04-03T10:24:09.280134Z"
    },
    "papermill": {
     "duration": 1.884001,
     "end_time": "2025-04-03T10:24:09.283027",
     "exception": false,
     "start_time": "2025-04-03T10:24:07.399026",
     "status": "completed"
    },
    "tags": []
   },
   "outputs": [
    {
     "data": {
      "text/plain": [
       "array([1.        , 0.15389675, 0.0860663 , ..., 0.        , 0.        ,\n",
       "       0.        ])"
      ]
     },
     "execution_count": 75,
     "metadata": {},
     "output_type": "execute_result"
    }
   ],
   "source": [
    "cosine_similarity(vectors)[0]"
   ]
  },
  {
   "cell_type": "markdown",
   "id": "384f9b88",
   "metadata": {
    "papermill": {
     "duration": 0.032223,
     "end_time": "2025-04-03T10:24:09.348036",
     "exception": false,
     "start_time": "2025-04-03T10:24:09.315813",
     "status": "completed"
    },
    "tags": []
   },
   "source": [
    "so the similarity of ist vector with itself is 1"
   ]
  },
  {
   "cell_type": "code",
   "execution_count": 76,
   "id": "b54d18ad",
   "metadata": {
    "execution": {
     "iopub.execute_input": "2025-04-03T10:24:09.414060Z",
     "iopub.status.busy": "2025-04-03T10:24:09.413686Z",
     "iopub.status.idle": "2025-04-03T10:24:11.266770Z",
     "shell.execute_reply": "2025-04-03T10:24:11.265853Z"
    },
    "papermill": {
     "duration": 1.888226,
     "end_time": "2025-04-03T10:24:11.268671",
     "exception": false,
     "start_time": "2025-04-03T10:24:09.380445",
     "status": "completed"
    },
    "tags": []
   },
   "outputs": [],
   "source": [
    "similarity=cosine_similarity(vectors)"
   ]
  },
  {
   "cell_type": "code",
   "execution_count": 77,
   "id": "0f7fb3a3",
   "metadata": {
    "execution": {
     "iopub.execute_input": "2025-04-03T10:24:11.333761Z",
     "iopub.status.busy": "2025-04-03T10:24:11.333398Z",
     "iopub.status.idle": "2025-04-03T10:24:11.343757Z",
     "shell.execute_reply": "2025-04-03T10:24:11.342686Z"
    },
    "papermill": {
     "duration": 0.044661,
     "end_time": "2025-04-03T10:24:11.345322",
     "exception": false,
     "start_time": "2025-04-03T10:24:11.300661",
     "status": "completed"
    },
    "tags": []
   },
   "outputs": [
    {
     "data": {
      "text/html": [
       "<div>\n",
       "<style scoped>\n",
       "    .dataframe tbody tr th:only-of-type {\n",
       "        vertical-align: middle;\n",
       "    }\n",
       "\n",
       "    .dataframe tbody tr th {\n",
       "        vertical-align: top;\n",
       "    }\n",
       "\n",
       "    .dataframe thead th {\n",
       "        text-align: right;\n",
       "    }\n",
       "</style>\n",
       "<table border=\"1\" class=\"dataframe\">\n",
       "  <thead>\n",
       "    <tr style=\"text-align: right;\">\n",
       "      <th></th>\n",
       "      <th>movie_id</th>\n",
       "      <th>title</th>\n",
       "      <th>tags</th>\n",
       "    </tr>\n",
       "  </thead>\n",
       "  <tbody>\n",
       "    <tr>\n",
       "      <th>0</th>\n",
       "      <td>19995</td>\n",
       "      <td>Avatar</td>\n",
       "      <td>in the 22nd century, a parapleg marin is dispa...</td>\n",
       "    </tr>\n",
       "  </tbody>\n",
       "</table>\n",
       "</div>"
      ],
      "text/plain": [
       "   movie_id   title                                               tags\n",
       "0     19995  Avatar  in the 22nd century, a parapleg marin is dispa..."
      ]
     },
     "execution_count": 77,
     "metadata": {},
     "output_type": "execute_result"
    }
   ],
   "source": [
    "new_df[new_df['title']=='Avatar']"
   ]
  },
  {
   "cell_type": "code",
   "execution_count": 78,
   "id": "25515c65",
   "metadata": {
    "execution": {
     "iopub.execute_input": "2025-04-03T10:24:11.412443Z",
     "iopub.status.busy": "2025-04-03T10:24:11.412037Z",
     "iopub.status.idle": "2025-04-03T10:24:11.419391Z",
     "shell.execute_reply": "2025-04-03T10:24:11.418350Z"
    },
    "papermill": {
     "duration": 0.042576,
     "end_time": "2025-04-03T10:24:11.421056",
     "exception": false,
     "start_time": "2025-04-03T10:24:11.378480",
     "status": "completed"
    },
    "tags": []
   },
   "outputs": [
    {
     "data": {
      "text/plain": [
       "0"
      ]
     },
     "execution_count": 78,
     "metadata": {},
     "output_type": "execute_result"
    }
   ],
   "source": [
    "new_df[new_df['title']=='Avatar'].index[0]"
   ]
  },
  {
   "cell_type": "code",
   "execution_count": 79,
   "id": "1cb74a47",
   "metadata": {
    "execution": {
     "iopub.execute_input": "2025-04-03T10:24:11.488007Z",
     "iopub.status.busy": "2025-04-03T10:24:11.487608Z",
     "iopub.status.idle": "2025-04-03T10:24:11.495242Z",
     "shell.execute_reply": "2025-04-03T10:24:11.494216Z"
    },
    "papermill": {
     "duration": 0.042841,
     "end_time": "2025-04-03T10:24:11.496950",
     "exception": false,
     "start_time": "2025-04-03T10:24:11.454109",
     "status": "completed"
    },
    "tags": []
   },
   "outputs": [
    {
     "data": {
      "text/plain": [
       "1.0000000000000002"
      ]
     },
     "execution_count": 79,
     "metadata": {},
     "output_type": "execute_result"
    }
   ],
   "source": [
    "sorted(similarity[0])[-1]\n",
    "# the numbers are sorted in asc order and start mai 0.0 to then 1. someting"
   ]
  },
  {
   "cell_type": "code",
   "execution_count": 80,
   "id": "aa75b2f2",
   "metadata": {
    "execution": {
     "iopub.execute_input": "2025-04-03T10:24:11.569522Z",
     "iopub.status.busy": "2025-04-03T10:24:11.569130Z",
     "iopub.status.idle": "2025-04-03T10:24:11.577067Z",
     "shell.execute_reply": "2025-04-03T10:24:11.576158Z"
    },
    "papermill": {
     "duration": 0.048891,
     "end_time": "2025-04-03T10:24:11.578655",
     "exception": false,
     "start_time": "2025-04-03T10:24:11.529764",
     "status": "completed"
    },
    "tags": []
   },
   "outputs": [
    {
     "data": {
      "text/plain": [
       "[0.22056438662814232,\n",
       " 0.22360679774997894,\n",
       " 0.22360679774997896,\n",
       " 0.24152294576982397,\n",
       " 0.2439750182371333,\n",
       " 0.2480694691784169,\n",
       " 0.24913643956121986,\n",
       " 0.25819888974716115,\n",
       " 0.26967994498529685]"
      ]
     },
     "execution_count": 80,
     "metadata": {},
     "output_type": "execute_result"
    }
   ],
   "source": [
    "sorted(similarity[0])[-10:-1]"
   ]
  },
  {
   "cell_type": "code",
   "execution_count": 81,
   "id": "1eb70411",
   "metadata": {
    "execution": {
     "iopub.execute_input": "2025-04-03T10:24:11.646128Z",
     "iopub.status.busy": "2025-04-03T10:24:11.645603Z",
     "iopub.status.idle": "2025-04-03T10:24:11.656124Z",
     "shell.execute_reply": "2025-04-03T10:24:11.654917Z"
    },
    "papermill": {
     "duration": 0.046637,
     "end_time": "2025-04-03T10:24:11.658030",
     "exception": false,
     "start_time": "2025-04-03T10:24:11.611393",
     "status": "completed"
    },
    "tags": []
   },
   "outputs": [
    {
     "data": {
      "text/plain": [
       "[0.22056438662814232,\n",
       " 0.22360679774997894,\n",
       " 0.22360679774997896,\n",
       " 0.24152294576982397,\n",
       " 0.2439750182371333,\n",
       " 0.2480694691784169,\n",
       " 0.24913643956121986,\n",
       " 0.25819888974716115,\n",
       " 0.26967994498529685,\n",
       " 1.0000000000000002]"
      ]
     },
     "execution_count": 81,
     "metadata": {},
     "output_type": "execute_result"
    }
   ],
   "source": [
    "sorted(similarity[0])[-10:]\n",
    "# last ke 10"
   ]
  },
  {
   "cell_type": "code",
   "execution_count": 82,
   "id": "8a2504b3",
   "metadata": {
    "execution": {
     "iopub.execute_input": "2025-04-03T10:24:11.742535Z",
     "iopub.status.busy": "2025-04-03T10:24:11.742132Z",
     "iopub.status.idle": "2025-04-03T10:24:11.750782Z",
     "shell.execute_reply": "2025-04-03T10:24:11.749688Z"
    },
    "papermill": {
     "duration": 0.050379,
     "end_time": "2025-04-03T10:24:11.752836",
     "exception": false,
     "start_time": "2025-04-03T10:24:11.702457",
     "status": "completed"
    },
    "tags": []
   },
   "outputs": [
    {
     "data": {
      "text/plain": [
       "[1.0000000000000002,\n",
       " 0.26967994498529685,\n",
       " 0.25819888974716115,\n",
       " 0.24913643956121986,\n",
       " 0.2480694691784169,\n",
       " 0.2439750182371333,\n",
       " 0.24152294576982397,\n",
       " 0.22360679774997896,\n",
       " 0.22360679774997894,\n",
       " 0.22056438662814232]"
      ]
     },
     "execution_count": 82,
     "metadata": {},
     "output_type": "execute_result"
    }
   ],
   "source": [
    "sorted(similarity[0],reverse=True)[:10]"
   ]
  },
  {
   "cell_type": "code",
   "execution_count": 83,
   "id": "259b0ac1",
   "metadata": {
    "execution": {
     "iopub.execute_input": "2025-04-03T10:24:11.820806Z",
     "iopub.status.busy": "2025-04-03T10:24:11.820412Z",
     "iopub.status.idle": "2025-04-03T10:24:11.829965Z",
     "shell.execute_reply": "2025-04-03T10:24:11.828852Z"
    },
    "papermill": {
     "duration": 0.04498,
     "end_time": "2025-04-03T10:24:11.831726",
     "exception": false,
     "start_time": "2025-04-03T10:24:11.786746",
     "status": "completed"
    },
    "tags": []
   },
   "outputs": [
    {
     "data": {
      "text/plain": [
       "[(151, 0.26967994498529685),\n",
       " (4405, 0.25819888974716115),\n",
       " (942, 0.24913643956121986),\n",
       " (1440, 0.2480694691784169),\n",
       " (1192, 0.2439750182371333)]"
      ]
     },
     "execution_count": 83,
     "metadata": {},
     "output_type": "execute_result"
    }
   ],
   "source": [
    "sorted(list(enumerate(similarity[0])),reverse=True,key=lambda x:x[1])[1:6]\n",
    "# in sorting function when we sort we loose index so we use enumerate function"
   ]
  },
  {
   "cell_type": "code",
   "execution_count": 84,
   "id": "ba6f6d92",
   "metadata": {
    "execution": {
     "iopub.execute_input": "2025-04-03T10:24:11.899550Z",
     "iopub.status.busy": "2025-04-03T10:24:11.899120Z",
     "iopub.status.idle": "2025-04-03T10:24:11.904620Z",
     "shell.execute_reply": "2025-04-03T10:24:11.903469Z"
    },
    "papermill": {
     "duration": 0.041398,
     "end_time": "2025-04-03T10:24:11.906381",
     "exception": false,
     "start_time": "2025-04-03T10:24:11.864983",
     "status": "completed"
    },
    "tags": []
   },
   "outputs": [],
   "source": [
    "def recommend(movie):\n",
    "    movie_index=new_df[new_df['title']==movie].index[0]\n",
    "    distances=similarity[movie_index]\n",
    "    movies_list=sorted(list(enumerate(distances)),reverse=True,key=lambda x:x[1])[1:6]\n",
    "\n",
    "    for i in movies_list:\n",
    "        print(new_df.iloc[i[0]].title)\n",
    "        print(i[0])\n",
    "    "
   ]
  },
  {
   "cell_type": "code",
   "execution_count": 85,
   "id": "1725f829",
   "metadata": {
    "execution": {
     "iopub.execute_input": "2025-04-03T10:24:11.973244Z",
     "iopub.status.busy": "2025-04-03T10:24:11.972833Z",
     "iopub.status.idle": "2025-04-03T10:24:11.984609Z",
     "shell.execute_reply": "2025-04-03T10:24:11.983478Z"
    },
    "papermill": {
     "duration": 0.047255,
     "end_time": "2025-04-03T10:24:11.986445",
     "exception": false,
     "start_time": "2025-04-03T10:24:11.939190",
     "status": "completed"
    },
    "tags": []
   },
   "outputs": [
    {
     "name": "stdout",
     "output_type": "stream",
     "text": [
      "Amidst the Devil's Wings\n",
      "4641\n",
      "The Dark Knight Rises\n",
      "3\n",
      "The Dark Knight\n",
      "65\n",
      "Batman\n",
      "1361\n",
      "Dead Man Down\n",
      "1666\n"
     ]
    }
   ],
   "source": [
    "recommend('Batman Begins')"
   ]
  },
  {
   "cell_type": "code",
   "execution_count": 86,
   "id": "23227262",
   "metadata": {
    "execution": {
     "iopub.execute_input": "2025-04-03T10:24:12.054430Z",
     "iopub.status.busy": "2025-04-03T10:24:12.054000Z",
     "iopub.status.idle": "2025-04-03T10:24:12.060582Z",
     "shell.execute_reply": "2025-04-03T10:24:12.059490Z"
    },
    "papermill": {
     "duration": 0.043112,
     "end_time": "2025-04-03T10:24:12.062294",
     "exception": false,
     "start_time": "2025-04-03T10:24:12.019182",
     "status": "completed"
    },
    "tags": []
   },
   "outputs": [
    {
     "data": {
      "text/plain": [
       "'Beowulf'"
      ]
     },
     "execution_count": 86,
     "metadata": {},
     "output_type": "execute_result"
    }
   ],
   "source": [
    "new_df.iloc[151].title"
   ]
  },
  {
   "cell_type": "code",
   "execution_count": null,
   "id": "cd10154a",
   "metadata": {
    "papermill": {
     "duration": 0.033047,
     "end_time": "2025-04-03T10:24:12.128917",
     "exception": false,
     "start_time": "2025-04-03T10:24:12.095870",
     "status": "completed"
    },
    "tags": []
   },
   "outputs": [],
   "source": []
  }
 ],
 "metadata": {
  "kaggle": {
   "accelerator": "none",
   "dataSources": [
    {
     "datasetId": 138,
     "sourceId": 4508,
     "sourceType": "datasetVersion"
    }
   ],
   "dockerImageVersionId": 30918,
   "isGpuEnabled": false,
   "isInternetEnabled": true,
   "language": "python",
   "sourceType": "notebook"
  },
  "kernelspec": {
   "display_name": "Python 3",
   "language": "python",
   "name": "python3"
  },
  "language_info": {
   "codemirror_mode": {
    "name": "ipython",
    "version": 3
   },
   "file_extension": ".py",
   "mimetype": "text/x-python",
   "name": "python",
   "nbconvert_exporter": "python",
   "pygments_lexer": "ipython3",
   "version": "3.10.12"
  },
  "papermill": {
   "default_parameters": {},
   "duration": 40.73613,
   "end_time": "2025-04-03T10:24:13.083543",
   "environment_variables": {},
   "exception": null,
   "input_path": "__notebook__.ipynb",
   "output_path": "__notebook__.ipynb",
   "parameters": {},
   "start_time": "2025-04-03T10:23:32.347413",
   "version": "2.6.0"
  }
 },
 "nbformat": 4,
 "nbformat_minor": 5
}
